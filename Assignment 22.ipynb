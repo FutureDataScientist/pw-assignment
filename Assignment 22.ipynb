{
 "cells": [
  {
   "cell_type": "markdown",
   "id": "612d3049",
   "metadata": {},
   "source": [
    "# Assignment 22"
   ]
  },
  {
   "cell_type": "code",
   "execution_count": 1,
   "id": "d09dd360",
   "metadata": {},
   "outputs": [
    {
     "name": "stdout",
     "output_type": "stream",
     "text": [
      "0     4\n",
      "1     8\n",
      "2    15\n",
      "3    16\n",
      "4    23\n",
      "5    42\n",
      "dtype: int64\n"
     ]
    }
   ],
   "source": [
    "#ans 1:\n",
    "import pandas as pd\n",
    "\n",
    "data = [4, 8, 15, 16, 23, 42]\n",
    "series = pd.Series(data)\n",
    "print(series)\n"
   ]
  },
  {
   "cell_type": "code",
   "execution_count": 2,
   "id": "ca9dad3c",
   "metadata": {},
   "outputs": [
    {
     "name": "stdout",
     "output_type": "stream",
     "text": [
      "0     1\n",
      "1     2\n",
      "2     3\n",
      "3     4\n",
      "4     5\n",
      "5     6\n",
      "6     7\n",
      "7     8\n",
      "8     9\n",
      "9    10\n",
      "dtype: int64\n"
     ]
    }
   ],
   "source": [
    "#ans 2:\n",
    "my_list = [1, 2, 3, 4, 5, 6, 7, 8, 9, 10]\n",
    "my_series = pd.Series(my_list)\n",
    "print(my_series)\n"
   ]
  },
  {
   "cell_type": "code",
   "execution_count": 3,
   "id": "34244410",
   "metadata": {},
   "outputs": [
    {
     "name": "stdout",
     "output_type": "stream",
     "text": [
      "     Name  Age  Gender\n",
      "0   Alice   25  Female\n",
      "1     Bob   30    Male\n",
      "2  Claire   27  Female\n"
     ]
    }
   ],
   "source": [
    "#ans 3:\n",
    "data = {\n",
    "    'Name': ['Alice', 'Bob', 'Claire'],\n",
    "    'Age': [25, 30, 27],\n",
    "    'Gender': ['Female', 'Male', 'Female']\n",
    "}\n",
    "df = pd.DataFrame(data)\n",
    "print(df)\n"
   ]
  },
  {
   "cell_type": "code",
   "execution_count": null,
   "id": "2cd06064",
   "metadata": {},
   "outputs": [],
   "source": []
  },
  {
   "cell_type": "markdown",
   "id": "45e0bfa9",
   "metadata": {},
   "source": [
    "ans 4:DataFrame is a two-dimensional tabular data structure in pandas that consists of rows and columns. It is similar to a spreadsheet or SQL table, where each row represents a single observation and each column represents a variable or feature.\n",
    "|\n",
    "A DataFrame can be thought of as a collection of Series objects, where each Series represents a column of the DataFrame. The key difference between a DataFrame and a Series is that a Series represents a single column of data, whereas a DataFrame represents multiple columns of data along with their corresponding row labels and column labels."
   ]
  },
  {
   "cell_type": "code",
   "execution_count": 4,
   "id": "9a1a9ea0",
   "metadata": {},
   "outputs": [
    {
     "name": "stdout",
     "output_type": "stream",
     "text": [
      "      Name  Age  Gender\n",
      "0    Alice   25  Female\n",
      "1      Bob   30    Male\n",
      "2  Charlie   35    Male\n"
     ]
    }
   ],
   "source": [
    "import pandas as pd\n",
    "data = {\n",
    "    'Name': ['Alice', 'Bob', 'Charlie'],\n",
    "    'Age': [25, 30, 35],\n",
    "    'Gender': ['Female', 'Male', 'Male']\n",
    "}\n",
    "df = pd.DataFrame(data)\n",
    "print(df)\n"
   ]
  },
  {
   "cell_type": "code",
   "execution_count": 5,
   "id": "d3853113",
   "metadata": {},
   "outputs": [
    {
     "name": "stdout",
     "output_type": "stream",
     "text": [
      "0      Alice\n",
      "1        Bob\n",
      "2    Charlie\n",
      "Name: Name, dtype: object\n"
     ]
    }
   ],
   "source": [
    "name_series = df['Name']\n",
    "print(name_series)\n"
   ]
  },
  {
   "cell_type": "code",
   "execution_count": null,
   "id": "a27f8f56",
   "metadata": {},
   "outputs": [],
   "source": []
  },
  {
   "cell_type": "markdown",
   "id": "aee636a4",
   "metadata": {},
   "source": [
    "#ans 5:\n",
    "Pandas provides a wide range of functions to manipulate data in a DataFrame. Some of the common functions include:\n",
    "\n",
    "head() and tail(): These functions are used to display the first or last n rows of a DataFrame, respectively. For example, you can use df.head(10) to display the first 10 rows of the DataFrame df.\n",
    "\n",
    "describe(): This function is used to generate descriptive statistics of the DataFrame, such as mean, standard deviation, minimum and maximum values, and quartiles. For example, you can use df.describe() to generate descriptive statistics of the DataFrame df.\n",
    "\n",
    "info(): This function is used to display a summary of the DataFrame, including the column names, data types, and number of non-null values. For example, you can use df.info() to display a summary of the DataFrame df.\n",
    "\n",
    "groupby(): This function is used to group rows of a DataFrame by one or more columns and perform some aggregate function on each group. For example, you can use df.groupby('column_name').mean() to group the rows of the DataFrame df by the values in column_name and calculate the mean of each group.\n",
    "\n",
    "drop(): This function is used to remove one or more columns or rows from the DataFrame. For example, you can use df.drop('column_name', axis=1) to remove the column named column_name from the DataFrame df.\n",
    "\n",
    "sort_values(): This function is used to sort the rows of a DataFrame by one or more columns. For example, you can use df.sort_values('column_name') to sort the rows of the DataFrame df by the values in column_name.\n",
    "\n",
    "apply(): This function is used to apply a function to each element or row of the DataFrame. For example, you can use df['column_name'].apply(lambda x: x**2) to apply the function lambda x: x**2 to each element of the column named "
   ]
  },
  {
   "cell_type": "markdown",
   "id": "3f93c8f4",
   "metadata": {},
   "source": [
    "ans 6:\n",
    "Both Series and DataFrame are mutable in nature, while Panel has been deprecated and is no longer recommended for use in pandas.\n",
    "\n",
    "In pandas, mutable objects can be modified in-place, meaning that their values can be changed without creating a new object. For example, you can modify a Series or DataFrame by assigning new values to one or more of its elements or columns:"
   ]
  },
  {
   "cell_type": "code",
   "execution_count": 6,
   "id": "b37b2a35",
   "metadata": {},
   "outputs": [],
   "source": [
    "s = pd.Series([1, 2, 3, 4])\n",
    "s[1] = 5\n",
    "df = pd.DataFrame({'A': [1, 2, 3], 'B': [4, 5, 6]})\n",
    "df['B'] = [7, 8, 9]\n"
   ]
  },
  {
   "cell_type": "markdown",
   "id": "cee1b8c1",
   "metadata": {},
   "source": [
    "# ans 7:\n",
    "To create a DataFrame using multiple Series, you can pass a dictionary of Series to the DataFrame constructor. Each Series will become a column in the resulting DataFrame, with the dictionary keys becoming the column names. Here is an example:"
   ]
  },
  {
   "cell_type": "code",
   "execution_count": 7,
   "id": "0699ed71",
   "metadata": {},
   "outputs": [
    {
     "name": "stdout",
     "output_type": "stream",
     "text": [
      "    fruit  quantity  in_stock\n",
      "0   apple        10      True\n",
      "1  banana        20     False\n",
      "2  cherry        30      True\n"
     ]
    }
   ],
   "source": [
    "\n",
    "s1 = pd.Series(['apple', 'banana', 'cherry'])\n",
    "s2 = pd.Series([10, 20, 30])\n",
    "s3 = pd.Series([True, False,True])\n",
    "df = pd.DataFrame({'fruit': s1, 'quantity': s2, 'in_stock': s3})\n",
    "print(df)\n"
   ]
  },
  {
   "cell_type": "code",
   "execution_count": null,
   "id": "c8066d90",
   "metadata": {},
   "outputs": [],
   "source": []
  }
 ],
 "metadata": {
  "kernelspec": {
   "display_name": "Python 3 (ipykernel)",
   "language": "python",
   "name": "python3"
  },
  "language_info": {
   "codemirror_mode": {
    "name": "ipython",
    "version": 3
   },
   "file_extension": ".py",
   "mimetype": "text/x-python",
   "name": "python",
   "nbconvert_exporter": "python",
   "pygments_lexer": "ipython3",
   "version": "3.9.12"
  }
 },
 "nbformat": 4,
 "nbformat_minor": 5
}
