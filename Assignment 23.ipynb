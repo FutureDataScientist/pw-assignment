{
 "cells": [
  {
   "cell_type": "markdown",
   "id": "01104c2d",
   "metadata": {},
   "source": [
    "# Assignment 23"
   ]
  },
  {
   "cell_type": "markdown",
   "id": "f161f077",
   "metadata": {},
   "source": [
    "Ans 1:\n",
    "Here are five functions of the pandas library in Python along with examples of how to execute them:\n",
    "\n",
    "read_csv: This function is used to read data from a CSV file and create a pandas DataFrame object.\n",
    "groupby: This function is used to group data in a DataFrame based on one or more columns.\n",
    "pivot_table: This function is used to create a pivot table in a pandas DataFrame.\n",
    "fillna: This function is used to fill missing values in a pandas DataFrame.\n",
    "to_csv: This function is used to write a pandas DataFrame to a CSV file."
   ]
  },
  {
   "cell_type": "code",
   "execution_count": null,
   "id": "cf87b4f6",
   "metadata": {},
   "outputs": [],
   "source": []
  },
  {
   "cell_type": "code",
   "execution_count": 2,
   "id": "717ee7d4",
   "metadata": {},
   "outputs": [],
   "source": [
    "#ans 2:\n",
    "import pandas as pd\n",
    "\n",
    "def reindex_dataframe(df):\n",
    "    new_index = pd.Index(range(1, 2*len(df)+1, 2))\n",
    "    df = df.reindex(new_index)\n",
    "    \n",
    "    return df\n"
   ]
  },
  {
   "cell_type": "code",
   "execution_count": 3,
   "id": "b6661de0",
   "metadata": {},
   "outputs": [
    {
     "name": "stdout",
     "output_type": "stream",
     "text": [
      "     A    B    C\n",
      "1  2.0  5.0  8.0\n",
      "3  NaN  NaN  NaN\n",
      "5  NaN  NaN  NaN\n"
     ]
    }
   ],
   "source": [
    "df = pd.DataFrame({'A': [1, 2, 3], 'B': [4, 5, 6], 'C': [7, 8, 9]})\n",
    "df_new = reindex_dataframe(df)\n",
    "print(df_new)\n",
    "#ans 4"
   ]
  },
  {
   "cell_type": "code",
   "execution_count": 4,
   "id": "bf0f74c9",
   "metadata": {},
   "outputs": [],
   "source": [
    "#ans 3:\n",
    "def sum_first_three_values(df):\n",
    "    # Get the first three values in the 'Values' column\n",
    "    first_three_values = df['Values'][:3]\n",
    "    \n",
    "    # Calculate the sum of the first three values\n",
    "    sum_of_first_three = sum(first_three_values)\n",
    "    \n",
    "    # Print the sum to the console\n",
    "    print(\"Sum of first three values in 'Values' column:\", sum_of_first_three)\n"
   ]
  },
  {
   "cell_type": "code",
   "execution_count": 5,
   "id": "1bca2c2c",
   "metadata": {},
   "outputs": [
    {
     "name": "stdout",
     "output_type": "stream",
     "text": [
      "Sum of first three values in 'Values' column: 6\n"
     ]
    }
   ],
   "source": [
    "# Create a sample DataFrame\n",
    "df = pd.DataFrame({'Values': [1, 2, 3, 4, 5]})\n",
    "\n",
    "# Call the function to calculate the sum of the first three values in the 'Values' column\n",
    "sum_first_three_values(df)\n"
   ]
  },
  {
   "cell_type": "code",
   "execution_count": 6,
   "id": "02aad588",
   "metadata": {},
   "outputs": [],
   "source": [
    "#ans 4\n",
    "def add_word_count_column(df):\n",
    "    words = df['Text'].str.split()\n",
    "    df['Word_Count'] = words.apply(len)\n",
    "    \n",
    "    return df\n"
   ]
  },
  {
   "cell_type": "code",
   "execution_count": 7,
   "id": "7887a694",
   "metadata": {},
   "outputs": [
    {
     "name": "stdout",
     "output_type": "stream",
     "text": [
      "                       Text  Word_Count\n",
      "0        This is a sentence           4\n",
      "1  This is another sentence           4\n",
      "2         One more sentence           3\n"
     ]
    }
   ],
   "source": [
    "df = pd.DataFrame({'Text': ['This is a sentence', 'This is another sentence', 'One more sentence']})\n",
    "df_with_word_count = add_word_count_column(df)\n",
    "print(df_with_word_count)\n"
   ]
  },
  {
   "cell_type": "markdown",
   "id": "4914c32e",
   "metadata": {},
   "source": [
    "#ans 5\n",
    "DataFrame.size and DataFrame.shape are both attributes of a Pandas DataFrame, but they have different meanings.\n",
    "\n",
    "DataFrame.size returns the total number of elements in the DataFrame, which is equal to the number of rows multiplied by the number of columns. It does not take into account the data types of the elements in the DataFrame.\n",
    "\n",
    "DataFrame.shape, on the other hand, returns a tuple that contains the number of rows and columns in the DataFrame, respectively. It provides a more detailed description of the DataFrame's structure."
   ]
  },
  {
   "cell_type": "code",
   "execution_count": 8,
   "id": "77fa24a0",
   "metadata": {},
   "outputs": [
    {
     "name": "stdout",
     "output_type": "stream",
     "text": [
      "DataFrame size: 9\n",
      "DataFrame shape: (3, 3)\n"
     ]
    }
   ],
   "source": [
    "import pandas as pd\n",
    "\n",
    "# Create a sample DataFrame\n",
    "df = pd.DataFrame({'A': [1, 2, 3], 'B': [4, 5, 6], 'C': [7, 8, 9]})\n",
    "\n",
    "# Print the DataFrame's size and shape\n",
    "print('DataFrame size:', df.size)\n",
    "print('DataFrame shape:', df.shape)\n"
   ]
  },
  {
   "cell_type": "code",
   "execution_count": null,
   "id": "9cdb2482",
   "metadata": {},
   "outputs": [],
   "source": [
    "#ans 6\n",
    "import pandas as pd\n",
    "\n",
    "# Read the Excel file into a DataFrame\n",
    "df = pd.read_excel('adult_data.xlsx')\n",
    "\n",
    "# Display the DataFrame\n",
    "print(df)\n"
   ]
  },
  {
   "cell_type": "code",
   "execution_count": 12,
   "id": "8725656a",
   "metadata": {},
   "outputs": [],
   "source": [
    "#ans 7:\n",
    "import pandas as pd\n",
    "\n",
    "def extract_username(df):\n",
    "    # Split the 'Email' column by '@' to get a list of username and domain for each row\n",
    "    email_parts = df['Email'].str.split('@')\n",
    "    \n",
    "    # Extract the first element of the 'email_parts' list to get the username\n",
    "    usernames = email_parts.apply(lambda x: x[0])\n",
    "    \n",
    "    # Add the 'Username' column to the DataFrame\n",
    "    df['Username'] = usernames\n",
    "    \n",
    "    return df\n",
    "\n"
   ]
  },
  {
   "cell_type": "code",
   "execution_count": 13,
   "id": "488b69ae",
   "metadata": {},
   "outputs": [
    {
     "name": "stdout",
     "output_type": "stream",
     "text": [
      "              Email Username\n",
      "0  john@example.com     john\n",
      "1  jane@example.com     jane\n",
      "2       foo@bar.com      foo\n"
     ]
    }
   ],
   "source": [
    "# Create a sample DataFrame\n",
    "df = pd.DataFrame({'Email': ['john@example.com', 'jane@example.com', 'foo@bar.com']})\n",
    "\n",
    "# Call the function to add a 'Username' column to the DataFrame\n",
    "df_with_username = extract_username(df)\n",
    "\n",
    "# Print the new DataFrame with the 'Username' column\n",
    "print(df_with_username)\n"
   ]
  },
  {
   "cell_type": "code",
   "execution_count": 14,
   "id": "9e7b6bf2",
   "metadata": {},
   "outputs": [],
   "source": [
    "#ans 8:\n",
    "import pandas as pd\n",
    "\n",
    "def select_rows(df):\n",
    "    # Create a boolean mask that selects the rows where 'A' > 5 and 'B' < 10\n",
    "    mask = (df['A'] > 5) & (df['B'] < 10)\n",
    "    \n",
    "    # Use the mask to select the rows from the original DataFrame and create a new DataFrame\n",
    "    new_df = df.loc[mask]\n",
    "    \n",
    "    return new_df\n"
   ]
  },
  {
   "cell_type": "code",
   "execution_count": 15,
   "id": "e8c94d4b",
   "metadata": {},
   "outputs": [
    {
     "name": "stdout",
     "output_type": "stream",
     "text": [
      "   A  B  C\n",
      "1  8  2  7\n",
      "2  6  9  4\n",
      "4  9  1  2\n"
     ]
    }
   ],
   "source": [
    "# Create a sample DataFrame\n",
    "df = pd.DataFrame({'A': [3, 8, 6, 2, 9], 'B': [5, 2, 9, 3, 1], 'C': [1, 7, 4, 5, 2]})\n",
    "\n",
    "# Call the function to select the rows where 'A' > 5 and 'B' < 10\n",
    "selected_df = select_rows(df)\n",
    "\n",
    "# Print the new DataFrame with the selected rows\n",
    "print(selected_df)\n"
   ]
  },
  {
   "cell_type": "code",
   "execution_count": null,
   "id": "3a46df98",
   "metadata": {},
   "outputs": [],
   "source": []
  }
 ],
 "metadata": {
  "kernelspec": {
   "display_name": "Python 3 (ipykernel)",
   "language": "python",
   "name": "python3"
  },
  "language_info": {
   "codemirror_mode": {
    "name": "ipython",
    "version": 3
   },
   "file_extension": ".py",
   "mimetype": "text/x-python",
   "name": "python",
   "nbconvert_exporter": "python",
   "pygments_lexer": "ipython3",
   "version": "3.9.12"
  }
 },
 "nbformat": 4,
 "nbformat_minor": 5
}
