{
 "cells": [
  {
   "cell_type": "markdown",
   "id": "35c14a57",
   "metadata": {},
   "source": [
    "# Assignment 24"
   ]
  },
  {
   "cell_type": "code",
   "execution_count": 2,
   "id": "f4b22ba7",
   "metadata": {},
   "outputs": [],
   "source": [
    "#ans 1:\n",
    "import pandas as pd\n",
    "course_name = ['Data Science', 'Machine Learning', 'Big Data', 'Data Engineer']\n",
    "duration = [2,3,6,4]\n",
    "df = pd.DataFrame(data = {'course_name' : course_name, 'duration' : duration})"
   ]
  },
  {
   "cell_type": "code",
   "execution_count": 3,
   "id": "84ebf7d1",
   "metadata": {},
   "outputs": [
    {
     "name": "stdout",
     "output_type": "stream",
     "text": [
      "course_name    Machine Learning\n",
      "duration                      3\n",
      "Name: 1, dtype: object\n"
     ]
    }
   ],
   "source": [
    "print(df.iloc[1])\n"
   ]
  },
  {
   "cell_type": "code",
   "execution_count": 4,
   "id": "f4e5b11f",
   "metadata": {},
   "outputs": [
    {
     "name": "stdout",
     "output_type": "stream",
     "text": [
      "['Machine Learning' 3]\n"
     ]
    }
   ],
   "source": [
    "print(df.iloc[1].values)\n"
   ]
  },
  {
   "cell_type": "markdown",
   "id": "2f820625",
   "metadata": {},
   "source": [
    "#ans 2:\n",
    "In Pandas, loc and iloc are two methods used for indexing and selecting data from a DataFrame.\n",
    "\n",
    "The main difference between loc and iloc is the way they reference the rows and columns of a DataFrame:\n",
    "\n",
    "loc: This method selects data based on labels (i.e., the row and column names). You can pass row and column labels either as single values, lists of values, or slices. For example, df.loc[2] will select the row with the label 2, while df.loc[2:4, 'duration'] will select the rows with labels 2, 3, and 4 for the duration column.\n",
    "\n",
    "iloc: This method selects data based on integer indices. You can pass row and column indices either as single integers, lists of integers, or slices. For example, df.iloc[2] will select the third row (since indexing starts at 0), while df.iloc[2:4, 1] will select the values in the second column for the rows with indices 2 and 3."
   ]
  },
  {
   "cell_type": "code",
   "execution_count": 5,
   "id": "7bd8143c",
   "metadata": {},
   "outputs": [
    {
     "name": "stdout",
     "output_type": "stream",
     "text": [
      "course_name    Big Data\n",
      "duration              6\n",
      "Name: 2, dtype: object\n",
      "course_name    Machine Learning\n",
      "duration                      3\n",
      "Name: 1, dtype: object\n"
     ]
    }
   ],
   "source": [
    "# ans 3:\n",
    "import pandas as pd\n",
    "\n",
    "# Create the original dataframe\n",
    "course_name = ['Data Science', 'Machine Learning', 'Big Data', 'Data Engineer']\n",
    "duration = [2, 3, 6, 4]\n",
    "df = pd.DataFrame(data={'course_name': course_name, 'duration': duration})\n",
    "\n",
    "# Reindex the dataframe\n",
    "reindex = [3, 0, 1, 2]\n",
    "new_df = df.reindex(reindex)\n",
    "\n",
    "# Print the results\n",
    "print(new_df.loc[2])\n",
    "print(new_df.iloc[2])\n"
   ]
  },
  {
   "cell_type": "markdown",
   "id": "5ceada05",
   "metadata": {},
   "source": [
    "#ans 4:\n",
    "The code you provided creates a Pandas DataFrame named df1 with 6 rows and 6 columns, where each element is a random float between 0 and 1. The column names are column_1, column_2, column_3, column_4, column_5, and column_6, and the row indices are 1, 2, 3, 4, 5, and 6.\n",
    "\n",
    "To answer your question, since no reindexing is performed on this dataframe, there is no difference between the outputs of loc and iloc for any row index. For example, df1.loc[2] and df1.iloc[2] will both return the third row of the dataframe (since indexing starts at 0), which has index label 3 and index position 2.\n",
    "\n",
    "Therefore, when no reindexing is performed, loc and iloc behave the same way, and both methods return the same row based on the given row index."
   ]
  },
  {
   "cell_type": "code",
   "execution_count": 6,
   "id": "3c91c89d",
   "metadata": {},
   "outputs": [
    {
     "name": "stdout",
     "output_type": "stream",
     "text": [
      "column_1    0.537149\n",
      "column_2    0.432311\n",
      "column_3    0.527258\n",
      "column_4    0.568863\n",
      "column_5    0.641432\n",
      "column_6    0.457858\n",
      "dtype: float64\n",
      "0.3670606789878719\n"
     ]
    }
   ],
   "source": [
    "#ans 5:\n",
    "import pandas as pd\n",
    "import numpy as np\n",
    "\n",
    "# Create the dataframe\n",
    "columns = ['column_1', 'column_2', 'column_3', 'column_4', 'column_5', 'column_6']\n",
    "indices = [1, 2, 3, 4, 5, 6]\n",
    "df1 = pd.DataFrame(np.random.rand(6, 6), columns=columns, index=indices)\n",
    "\n",
    "# (i) Mean of each column\n",
    "print(df1.mean())\n",
    "\n",
    "# (ii) Standard deviation of 'column_2'\n",
    "print(df1['column_2'].std())\n"
   ]
  },
  {
   "cell_type": "code",
   "execution_count": 7,
   "id": "0c80f0d7",
   "metadata": {},
   "outputs": [
    {
     "name": "stdout",
     "output_type": "stream",
     "text": [
      "0.5956602761250294\n"
     ]
    }
   ],
   "source": [
    "#ans 6:\n",
    "import pandas as pd\n",
    "import numpy as np\n",
    "\n",
    "# Create the dataframe\n",
    "columns = ['column_1', 'column_2', 'column_3', 'column_4', 'column_5', 'column_6']\n",
    "indices = [1, 2, 3, 4, 5, 6]\n",
    "df1 = pd.DataFrame(np.random.rand(6, 6), columns=columns, index=indices)\n",
    "\n",
    "# Replace the data in the second row of 'column_2' with a string\n",
    "df1.loc[2, 'column_2'] = 'string_data'\n",
    "\n",
    "# Calculate the mean of 'column_2'\n",
    "# Note: since there is a string value in 'column_2', we need to first convert it to a numeric type\n",
    "# using the 'to_numeric' method with the 'errors' parameter set to 'coerce'\n",
    "df1['column_2'] = pd.to_numeric(df1['column_2'], errors='coerce')\n",
    "mean_column_2 = df1['column_2'].mean()\n",
    "\n",
    "print(mean_column_2)\n"
   ]
  },
  {
   "cell_type": "markdown",
   "id": "bbfc1893",
   "metadata": {},
   "source": [
    "#ans 7:\n",
    "In pandas, the window function is a powerful tool for analyzing and manipulating data within a rolling or expanding window. It allows us to perform various operations on a subset of data, such as calculating moving averages, rolling sums, and more.\n",
    "\n",
    "There are two types of window functions in pandas:\n",
    "\n",
    "Rolling Window Functions: This type of window function is used to perform calculations on a rolling (i.e., moving) window of data. It takes a fixed-size window and slides it over the data to calculate the desired output. Some common rolling window functions are:\n",
    "rolling(): This function is used to create a rolling window object for a given pandas Series or DataFrame. It takes the window size as input and returns a rolling window object.\n",
    "\n",
    "sum(): This function is used to calculate the rolling sum of a pandas Series or DataFrame.\n",
    "\n",
    "mean(): This function is used to calculate the rolling mean of a pandas Series or DataFrame.\n",
    "\n",
    "std(): This function is used to calculate the rolling standard deviation of a pandas Series or DataFrame.\n",
    "\n",
    "Expanding Window Functions: This type of window function is used to perform calculations on an expanding window of data. It starts with a single value and gradually adds more data points to the window to calculate the desired output. Some common expanding window functions are:\n",
    "expanding(): This function is used to create an expanding window object for a given pandas Series or DataFrame. It takes no input and returns an expanding window object.\n",
    "\n",
    "cumsum(): This function is used to calculate the cumulative sum of a pandas Series or DataFrame.\n",
    "\n",
    "cummax(): This function is used to calculate the cumulative maximum of a pandas Series or DataFrame.\n",
    "\n",
    "cummin(): This function is used to calculate the cumulative minimum of a pandas Series or DataFrame."
   ]
  },
  {
   "cell_type": "code",
   "execution_count": 8,
   "id": "682889f5",
   "metadata": {},
   "outputs": [
    {
     "name": "stdout",
     "output_type": "stream",
     "text": [
      "Current month and year: 3/2023\n"
     ]
    },
    {
     "name": "stderr",
     "output_type": "stream",
     "text": [
      "C:\\Users\\harsh\\AppData\\Local\\Temp\\ipykernel_16016\\2112550573.py:4: FutureWarning: The pandas.datetime class is deprecated and will be removed from pandas in a future version. Import from datetime module instead.\n",
      "  current_date = pd.datetime.now()\n"
     ]
    }
   ],
   "source": [
    "#ans 8:\n",
    "import pandas as pd\n",
    "\n",
    "current_date = pd.datetime.now()\n",
    "current_month = current_date.month\n",
    "current_year = current_date.year\n",
    "\n",
    "print(f\"Current month and year: {current_month}/{current_year}\")\n"
   ]
  },
  {
   "cell_type": "code",
   "execution_count": 9,
   "id": "b5febea4",
   "metadata": {},
   "outputs": [
    {
     "name": "stdout",
     "output_type": "stream",
     "text": [
      "Enter the first date (YYYY-MM-DD): 2023-3-21\n",
      "Enter the second date (YYYY-MM-DD): 2023-6-22\n",
      "Time difference: 93 days, 0 hours, 0 minutes\n"
     ]
    }
   ],
   "source": [
    "#ans 8:\n",
    "import pandas as pd\n",
    "\n",
    "# Prompt user to enter two dates in the format YYYY-MM-DD\n",
    "date1 = input(\"Enter the first date (YYYY-MM-DD): \")\n",
    "date2 = input(\"Enter the second date (YYYY-MM-DD): \")\n",
    "\n",
    "# Convert dates to datetime objects\n",
    "date1 = pd.to_datetime(date1)\n",
    "date2 = pd.to_datetime(date2)\n",
    "\n",
    "# Calculate difference between dates\n",
    "diff = date2 - date1\n",
    "\n",
    "# Extract days, hours, and minutes from difference\n",
    "days = diff.days\n",
    "hours = diff.seconds // 3600\n",
    "minutes = (diff.seconds // 60) % 60\n",
    "\n",
    "# Display result\n",
    "print(f\"Time difference: {days} days, {hours} hours, {minutes} minutes\")\n"
   ]
  },
  {
   "cell_type": "code",
   "execution_count": null,
   "id": "939dea21",
   "metadata": {},
   "outputs": [],
   "source": [
    "#ans 9:\n",
    "import pandas as pd\n",
    "\n",
    "# Prompt user to enter file path, column name, and category order\n",
    "file_path = input(\"Enter file path: \")\n",
    "column_name = input(\"Enter column name: \")\n",
    "category_order = input(\"Enter category order (comma-separated): \").split(',')\n",
    "\n",
    "# Read CSV file into a DataFrame\n",
    "df = pd.read_csv(file_path)\n",
    "\n",
    "# Convert specified column to categorical data type\n",
    "df[column_name] = pd.Categorical(df[column_name], categories=category_order)\n",
    "\n",
    "# Sort data by specified column\n",
    "df = df.sort_values(by=column_name)\n",
    "\n",
    "# Display sorted data\n",
    "print(df)\n"
   ]
  },
  {
   "cell_type": "code",
   "execution_count": null,
   "id": "1f9f0e21",
   "metadata": {},
   "outputs": [],
   "source": [
    "#ans 10:import pandas as pd\n",
    "import matplotlib.pyplot as plt\n",
    "\n",
    "# prompt user for file path\n",
    "file_path = input(\"Enter the file path for sales data CSV: \")\n",
    "\n",
    "# read CSV into a pandas dataframe\n",
    "df = pd.read_csv(file_path)\n",
    "\n",
    "# set date column as index and convert to datetime object\n",
    "df.set_index('Date', inplace=True)\n",
    "df.index = pd.to_datetime(df.index)\n",
    "\n",
    "# group by product category and resample to monthly frequency\n",
    "df = df.groupby('Product Category').resample('M').sum()\n",
    "\n",
    "# create stacked bar chart\n",
    "df.plot(kind='bar', stacked=True)\n",
    "\n",
    "# set chart labels and title\n",
    "plt.xlabel('Month')\n",
    "plt.ylabel('Sales')\n",
    "plt.title('Sales by Product Category over Time')\n",
    "\n",
    "# display chart\n",
    "plt.show()\n",
    "\n"
   ]
  },
  {
   "cell_type": "code",
   "execution_count": null,
   "id": "20e4e989",
   "metadata": {},
   "outputs": [],
   "source": []
  }
 ],
 "metadata": {
  "kernelspec": {
   "display_name": "Python 3 (ipykernel)",
   "language": "python",
   "name": "python3"
  },
  "language_info": {
   "codemirror_mode": {
    "name": "ipython",
    "version": 3
   },
   "file_extension": ".py",
   "mimetype": "text/x-python",
   "name": "python",
   "nbconvert_exporter": "python",
   "pygments_lexer": "ipython3",
   "version": "3.9.12"
  }
 },
 "nbformat": 4,
 "nbformat_minor": 5
}
