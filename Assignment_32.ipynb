{
  "nbformat": 4,
  "nbformat_minor": 0,
  "metadata": {
    "colab": {
      "provenance": []
    },
    "kernelspec": {
      "name": "python3",
      "display_name": "Python 3"
    },
    "language_info": {
      "name": "python"
    }
  },
  "cells": [
    {
      "cell_type": "code",
      "execution_count": 1,
      "metadata": {
        "id": "Ila2Wp0EPWZU"
      },
      "outputs": [],
      "source": [
        "##Assignment 32"
      ]
    },
    {
      "cell_type": "code",
      "source": [],
      "metadata": {
        "id": "hyYSTofePajR"
      },
      "execution_count": null,
      "outputs": []
    },
    {
      "cell_type": "markdown",
      "source": [
        "ans 1:The Probability density function (PDF) is a mathematical function that describes the probability distribution of a continuous random variable. In other words, it is a function that specifies the likelihood of a random variable taking on a particular value within a given range of values.\n",
        "\n",
        "The PDF is defined as the derivative of the cumulative distribution function (CDF), which gives the probability that a random variable X is less than or equal to a particular value x. The PDF is denoted by f(x), and it is defined as follows:\n",
        "\n",
        "f(x) = d/dx F(x)\n",
        "\n",
        "where F(x) is the CDF of the random variable X.\n",
        "\n",
        "The PDF must satisfy two important conditions: it must be non-negative, meaning that the probability of the random variable taking on any value within the given range must be greater than or equal to zero, and it must integrate to one over the entire range of values.\n",
        "\n",
        "The PDF is used to calculate various statistics related to the random variable, such as the mean and variance, and it plays an important role in many areas of science and engineering, including statistics, physics, finance, and machine learning."
      ],
      "metadata": {
        "id": "Ri9GpADJPdsm"
      }
    },
    {
      "cell_type": "code",
      "source": [],
      "metadata": {
        "id": "XohsqXhBPlTY"
      },
      "execution_count": null,
      "outputs": []
    },
    {
      "cell_type": "markdown",
      "source": [
        "ans 2:There are several types of probability distributions, each with its own unique characteristics and applications. Here are some of the most common types of probability distributions:\n",
        "\n",
        "Normal distribution: This is a continuous probability distribution that is often used to model real-world phenomena, such as height, weight, and IQ scores. It is symmetric, bell-shaped, and characterized by its mean and standard deviation.\n",
        "\n",
        "Binomial distribution: This is a discrete probability distribution that models the probability of a binary event (e.g., success or failure) occurring a certain number of times in a fixed number of trials. It is characterized by two parameters: the probability of success in a single trial and the number of trials.\n",
        "\n",
        "Poisson distribution: This is a discrete probability distribution that models the probability of a rare event occurring a certain number of times in a fixed time period or space. It is characterized by one parameter, the rate of occurrence of the event.\n",
        "\n",
        "Exponential distribution: This is a continuous probability distribution that models the time between events that occur at a constant rate. It is characterized by one parameter, the rate of occurrence.\n",
        "\n",
        "Uniform distribution: This is a continuous probability distribution that models the probability of a random variable taking on any value within a specified range. It is characterized by two parameters: the lower and upper bounds of the range.\n",
        "\n",
        "Gamma distribution: This is a continuous probability distribution that models the time it takes for a series of rare events to occur. It is characterized by two parameters: the shape and rate.\n",
        "\n",
        "Beta distribution: This is a continuous probability distribution that models the probability of a random variable taking on a value between zero and one. It is often used in Bayesian statistics to model the prior and posterior probabilities of an event."
      ],
      "metadata": {
        "id": "jfR3aEvsPn8G"
      }
    },
    {
      "cell_type": "code",
      "source": [
        "#ans 3:\n",
        "import math\n",
        "\n",
        "def normal_pdf(x, mean, std_dev):\n",
        "    \"\"\"\n",
        "    Calculates the probability density function of a normal distribution\n",
        "    at a given point, given the mean and standard deviation.\n",
        "    \"\"\"\n",
        "    exponent = -(x - mean)**2 / (2 * std_dev**2)\n",
        "    coeff = 1 / (std_dev * math.sqrt(2 * math.pi))\n",
        "    pdf = coeff * math.exp(exponent)\n",
        "    return pdf\n"
      ],
      "metadata": {
        "id": "DtR2m8WkPut1"
      },
      "execution_count": 2,
      "outputs": []
    },
    {
      "cell_type": "code",
      "source": [
        "mean = 0\n",
        "std_dev = 1\n",
        "x = 1.5\n",
        "pdf = normal_pdf(x, mean, std_dev)\n",
        "print(f\"PDF of N({mean}, {std_dev}): {pdf}\")\n"
      ],
      "metadata": {
        "colab": {
          "base_uri": "https://localhost:8080/"
        },
        "id": "najEAqfeP3QP",
        "outputId": "107d243e-1677-491e-895d-467a69a23e5b"
      },
      "execution_count": 3,
      "outputs": [
        {
          "output_type": "stream",
          "name": "stdout",
          "text": [
            "PDF of N(0, 1): 0.12951759566589174\n"
          ]
        }
      ]
    },
    {
      "cell_type": "markdown",
      "source": [
        "ans 4:The binomial distribution has the following properties:\n",
        "\n",
        "The outcomes of each trial must be binary (i.e., success or failure).\n",
        "The trials must be independent of each other.\n",
        "The probability of success is constant for each trial.\n",
        "The number of trials is fixed.\n",
        "The random variable of interest is the number of successes in the fixed number of trials.\n",
        "Here are two examples of events where the binomial distribution can be applied:\n",
        "\n",
        "Flipping a coin: Suppose we flip a fair coin 10 times and count the number of times it lands heads up. Each trial has two possible outcomes (heads or tails), the trials are independent of each other, the probability of success (getting heads) is constant at 0.5 for each trial, and the number of trials is fixed at 10. Therefore, we can model this situation using a binomial distribution.\n",
        "\n",
        "Manufacturing defects: A manufacturing company produces 1,000 units of a product and tests each unit for defects. If the probability of a unit having a defect is 0.05, we can model the number of defective units using a binomial distribution. Each unit is either defective or non-defective (binary outcome), the units are independent of each other, the probability of success (a unit being defective) is constant at 0.05, and the number of trials is fixed at 1,000."
      ],
      "metadata": {
        "id": "4WgzfgIAPvgr"
      }
    },
    {
      "cell_type": "code",
      "source": [
        "#ans 5:\n",
        "import numpy as np\n",
        "import matplotlib.pyplot as plt\n",
        "\n",
        "# Set the parameters of the binomial distribution\n",
        "n = 100   # number of trials\n",
        "p = 0.4   # probability of success\n",
        "\n",
        "# Generate a random sample of size 1000 from the binomial distribution\n",
        "sample = np.random.binomial(n, p, 1000)\n",
        "\n",
        "# Plot a histogram of the sample using Matplotlib\n",
        "plt.hist(sample, bins=range(n+1), density=True)\n",
        "plt.xlabel('Number of Successes')\n",
        "plt.ylabel('Probability')\n",
        "plt.title('Histogram of Binomial Distribution (n={}, p={})'.format(n, p))\n",
        "plt.show()\n"
      ],
      "metadata": {
        "colab": {
          "base_uri": "https://localhost:8080/",
          "height": 472
        },
        "id": "Cw1Wmj88QFZn",
        "outputId": "13456b9e-7b83-4f1a-b8a8-dfcd927133a6"
      },
      "execution_count": 4,
      "outputs": [
        {
          "output_type": "display_data",
          "data": {
            "text/plain": [
              "<Figure size 640x480 with 1 Axes>"
            ],
            "image/png": "[encoded data removed]"
          },
          "metadata": {}
        }
      ]
    },
    {
      "cell_type": "code",
      "source": [
        "#ans 6:\n",
        "import math\n",
        "\n",
        "def poisson_cdf(k, mean):\n",
        "    \"\"\"\n",
        "    Calculates the cumulative distribution function of a Poisson distribution\n",
        "    at a given point, given the mean.\n",
        "    \"\"\"\n",
        "    cdf = 0\n",
        "    for i in range(k+1):\n",
        "        cdf += (mean**i / math.factorial(i)) * math.exp(-mean)\n",
        "    return cdf\n",
        "\n"
      ],
      "metadata": {
        "id": "9VF0QCQsQOu4"
      },
      "execution_count": 5,
      "outputs": []
    },
    {
      "cell_type": "code",
      "source": [
        "mean = 3\n",
        "k = 4\n",
        "cdf = poisson_cdf(k, mean)\n",
        "print(f\"CDF of Poisson({mean}): {cdf}\")\n"
      ],
      "metadata": {
        "colab": {
          "base_uri": "https://localhost:8080/"
        },
        "id": "T5ko3jJBQXCL",
        "outputId": "fb1aca22-d492-43a8-96e8-136113225f5b"
      },
      "execution_count": 6,
      "outputs": [
        {
          "output_type": "stream",
          "name": "stdout",
          "text": [
            "CDF of Poisson(3): 0.8152632445237721\n"
          ]
        }
      ]
    },
    {
      "cell_type": "code",
      "source": [],
      "metadata": {
        "id": "GExK18yFQa9-"
      },
      "execution_count": null,
      "outputs": []
    },
    {
      "cell_type": "markdown",
      "source": [
        "ans 7:Binomial distribution and Poisson distribution are two types of discrete probability distributions that are commonly used in statistical analysis. They are similar in some ways, but they also have some important differences.\n",
        "\n",
        "Here are some key differences between Binomial distribution and Poisson distribution:\n",
        "\n",
        "Number of Trials: The Binomial distribution describes the number of successes in a fixed number of independent trials, while the Poisson distribution describes the number of events in a fixed interval of time or space.\n",
        "\n",
        "Probability of Success: In the Binomial distribution, the probability of success is constant for each trial. In the Poisson distribution, the probability of an event occurring is proportional to the length of the time or space interval being considered.\n",
        "\n",
        "Shape: The shape of the Binomial distribution is bell-shaped, and becomes more like a normal distribution as the number of trials increases. The shape of the Poisson distribution is skewed right, and becomes more like a normal distribution as the mean parameter increases.\n",
        "\n",
        "Parameterization: The Binomial distribution is parameterized by the number of trials (n) and the probability of success (p), while the Poisson distribution is parameterized by the mean number of events (λ) in a fixed interval.\n",
        "\n",
        "Assumptions: The Binomial distribution assumes that the trials are independent and identically distributed, and that the probability of success is constant for each trial. The Poisson distribution assumes that events occur independently of each other, and that the rate of occurrence is constant over time or space."
      ],
      "metadata": {
        "id": "5_7WIYooQipN"
      }
    },
    {
      "cell_type": "code",
      "source": [
        "#ans 8:\n",
        "import numpy as np\n",
        "\n",
        "# Generate random sample of size 1000 from Poisson distribution with mean 5\n",
        "sample = np.random.poisson(lam=5, size=1000)\n",
        "\n",
        "# Calculate sample mean\n",
        "sample_mean = np.mean(sample)\n",
        "\n",
        "# Calculate sample variance\n",
        "sample_variance = np.var(sample)\n",
        "\n",
        "# Print results\n",
        "print(\"Sample mean:\", sample_mean)\n",
        "print(\"Sample variance:\", sample_variance)\n"
      ],
      "metadata": {
        "colab": {
          "base_uri": "https://localhost:8080/"
        },
        "id": "p1E0x8acQgeT",
        "outputId": "11545629-4052-4957-8d8f-9f63800e3b39"
      },
      "execution_count": 7,
      "outputs": [
        {
          "output_type": "stream",
          "name": "stdout",
          "text": [
            "Sample mean: 5.149\n",
            "Sample variance: 4.618799\n"
          ]
        }
      ]
    },
    {
      "cell_type": "markdown",
      "source": [
        "ans 9:\n",
        "In Binomial distribution, the mean (μ) is equal to the product of the number of trials (n) and the probability of success (p), i.e., μ = np. The variance (σ²) is equal to the product of the number of trials (n), the probability of success (p), and the probability of failure (q=1-p), i.e., σ² = npq.\n",
        "\n",
        "In Poisson distribution, the mean (μ) and variance (σ²) are both equal to the parameter λ, i.e., μ = σ² = λ.\n",
        "\n",
        "Therefore, the relationship between mean and variance is different in Binomial and Poisson distributions. In Binomial distribution, the variance increases as the mean increases, and the spread of the distribution becomes wider. In Poisson distribution, the variance is equal to the mean, so the spread of the distribution is proportional to the mean."
      ],
      "metadata": {
        "id": "fHonMin1Qz5S"
      }
    },
    {
      "cell_type": "code",
      "source": [],
      "metadata": {
        "id": "674ureFmQq-S"
      },
      "execution_count": null,
      "outputs": []
    },
    {
      "cell_type": "markdown",
      "source": [
        "ans 10:In a normal distribution, the least frequent data appears at the tails of the distribution, which are the regions far away from the mean. This is because the normal distribution is symmetric around the mean, with the highest frequency of data occurring at the mean, and the frequency of data gradually decreasing as we move away from the mean in either direction.\n",
        "\n",
        "As we move further away from the mean towards the tails of the distribution, the frequency of data decreases exponentially, following the shape of the normal curve. In fact, for a normal distribution, the majority of the data (about 68%) lies within one standard deviation of the mean, while the least frequent data (about 5%) lies beyond two standard deviations from the mean on either side of the distribution.\n",
        "\n",
        "So, the least frequent data in a normal distribution appears in the tails, which are the regions farthest away from the mean."
      ],
      "metadata": {
        "id": "Zr1u8l_rQ_EF"
      }
    },
    {
      "cell_type": "code",
      "source": [],
      "metadata": {
        "id": "V7dfU3oHRBaI"
      },
      "execution_count": null,
      "outputs": []
    }
  ]
}