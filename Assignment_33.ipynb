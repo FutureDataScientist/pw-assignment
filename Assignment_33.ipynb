{
  "nbformat": 4,
  "nbformat_minor": 0,
  "metadata": {
    "colab": {
      "provenance": []
    },
    "kernelspec": {
      "name": "python3",
      "display_name": "Python 3"
    },
    "language_info": {
      "name": "python"
    }
  },
  "cells": [
    {
      "cell_type": "code",
      "execution_count": 1,
      "metadata": {
        "id": "LnHInqr8RjXV"
      },
      "outputs": [],
      "source": [
        "##Assignment 33"
      ]
    },
    {
      "cell_type": "code",
      "source": [],
      "metadata": {
        "id": "2Eauz2wMRmly"
      },
      "execution_count": null,
      "outputs": []
    },
    {
      "cell_type": "markdown",
      "source": [
        "ans 1:\n",
        "The Probability Mass Function (PMF) and Probability Density Function (PDF) are two mathematical concepts used to describe the probability distribution of a random variable.\n",
        "\n",
        "The PMF is used for discrete random variables and gives the probability that a particular value of the random variable will occur. It is defined as follows:\n",
        "\n",
        "P(X = x) = f(x)\n",
        "\n",
        "where P(X = x) is the probability that the random variable X takes the value x, and f(x) is the PMF of X.\n",
        "\n",
        "For example, let's consider a random variable X that represents the number of heads obtained when tossing a fair coin three times. The possible values of X are 0, 1, 2, or 3. The PMF of X can be calculated as follows:\n",
        "\n",
        "P(X = 0) = 1/8\n",
        "P(X = 1) = 3/8\n",
        "P(X = 2) = 3/8\n",
        "P(X = 3) = 1/8\n",
        "\n",
        "The PMF of X can be graphically represented as a bar graph, where each bar represents the probability of a particular value of X.\n",
        "\n",
        "The PDF is used for continuous random variables and gives the probability density at a particular point in the distribution. It is defined as follows:\n",
        "\n",
        "f(x) = dF(x)/dx\n",
        "\n",
        "where f(x) is the PDF of X, F(x) is the CDF of X, and dF(x)/dx is the derivative of the CDF with respect to x.\n",
        "\n",
        "For example, let's consider a continuous random variable X that follows a standard normal distribution. The PDF of X is given by the following formula:\n",
        "\n",
        "f(x) = (1/√(2π)) * e^(-(x^2)/2)\n",
        "\n",
        "The PDF of X can be graphically represented as a curve, where the area under the curve represents the probability of X taking a value within a given interval."
      ],
      "metadata": {
        "id": "8UoqWQlRSMXN"
      }
    },
    {
      "cell_type": "code",
      "source": [],
      "metadata": {
        "id": "rxPrMLT9SOd-"
      },
      "execution_count": null,
      "outputs": []
    },
    {
      "cell_type": "markdown",
      "source": [
        "ans 2:Cumulative Density Function (CDF) is a mathematical function that describes the probability distribution of a random variable. It is defined as the probability that a random variable X takes a value less than or equal to a specific value x.\n",
        "\n",
        "In other words, the CDF of a random variable X is defined as:\n",
        "\n",
        "F(x) = P(X ≤ x)\n",
        "\n",
        "where F(x) is the cumulative distribution function, X is the random variable, and x is the value of the random variable.\n",
        "\n",
        "For example, let's consider a random variable X that represents the number of heads obtained when tossing a fair coin three times. The possible values of X are 0, 1, 2, or 3.\n",
        "\n",
        "The CDF of X can be calculated as follows:\n",
        "\n",
        "F(0) = P(X ≤ 0) = 1/8\n",
        "F(1) = P(X ≤ 1) = 1/8 + 3/8 = 1/2\n",
        "F(2) = P(X ≤ 2) = 1/8 + 3/8 + 3/8 = 7/8\n",
        "F(3) = P(X ≤ 3) = 1\n",
        "\n",
        "The CDF of X can be graphically represented as a step function that starts at 0 and ends at 1, with jumps at each possible value of X.\n",
        "\n",
        "The CDF is used to determine the probability of a random variable taking a value within a given interval, as well as to calculate other statistical measures such as the mean, median, and variance of a distribution. It is also used to compare different distributions and to test hypotheses about the distribution of a random variable."
      ],
      "metadata": {
        "id": "VZWVrxoJSPWM"
      }
    },
    {
      "cell_type": "code",
      "source": [],
      "metadata": {
        "id": "YNKgwPiiSYWm"
      },
      "execution_count": null,
      "outputs": []
    },
    {
      "cell_type": "markdown",
      "source": [
        "ans 3:The normal distribution, also known as the Gaussian distribution, is a continuous probability distribution that is widely used in statistical modeling. It is used to model many natural phenomena that tend to cluster around a central value, such as:\n",
        "\n",
        "Height and weight of individuals in a population\n",
        "Scores on standardized tests, such as IQ tests\n",
        "Errors in measurements or experimental data\n",
        "Natural phenomena, such as the distribution of rainfall or wind speeds\n",
        "The parameters of the normal distribution are the mean (μ) and the standard deviation (σ). The mean represents the central value around which the data is clustered, while the standard deviation represents the spread or variability of the data.\n",
        "\n",
        "The shape of the normal distribution is symmetric and bell-shaped. The mean is located at the center of the distribution, and the standard deviation determines the width of the distribution. The greater the standard deviation, the wider the distribution.\n",
        "\n",
        "The standard normal distribution is a special case of the normal distribution where the mean is zero and the standard deviation is one. This distribution is useful in statistical analysis, as it allows us to convert any normal distribution into a standard normal distribution, which can then be compared to a standard normal distribution table to determine probabilities and percentiles."
      ],
      "metadata": {
        "id": "Hq2gpiAJSZVg"
      }
    },
    {
      "cell_type": "code",
      "source": [],
      "metadata": {
        "id": "einxfaXaSlbI"
      },
      "execution_count": null,
      "outputs": []
    },
    {
      "cell_type": "markdown",
      "source": [
        "ans 4:The Normal Distribution, also known as the Gaussian Distribution, is an important concept in statistics and probability theory. It is a continuous probability distribution that is symmetric and bell-shaped, and is characterized by two parameters: the mean (μ) and the standard deviation (σ).\n",
        "\n",
        "The importance of the Normal Distribution lies in the fact that many natural phenomena tend to follow this distribution. This means that the Normal Distribution can be used as a model to describe and analyze real-world data in many different fields, including science, engineering, finance, and social sciences.\n",
        "\n",
        "Here are a few examples of real-life phenomena that follow the Normal Distribution:\n",
        "\n",
        "Human height: The heights of adult human males and females tend to follow a Normal Distribution, with a mean of around 5'9\" for males and 5'4\" for females, and a standard deviation of around 3 inches.\n",
        "\n",
        "Exam scores: Scores on standardized exams, such as the SAT or GRE, tend to follow a Normal Distribution, with a mean score around the 50th percentile and a standard deviation of around 100 points.\n",
        "\n",
        "Weight of objects: The weights of many everyday objects, such as apples or textbooks, tend to follow a Normal Distribution.\n",
        "\n",
        "Stock prices: The daily returns on many stocks tend to follow a Normal Distribution, which is used to model risk in financial analysis.\n",
        "\n",
        "Errors in measurement: Errors in measurements of physical quantities, such as length or temperature, tend to follow a Normal Distribution."
      ],
      "metadata": {
        "id": "IwJ0BhkzSmJp"
      }
    },
    {
      "cell_type": "code",
      "source": [],
      "metadata": {
        "id": "kHKqfhkxT4KQ"
      },
      "execution_count": null,
      "outputs": []
    },
    {
      "cell_type": "markdown",
      "source": [
        "ans 5:The Bernoulli Distribution is a probability distribution that models the outcomes of a single binary trial, where the outcome can be either success or failure. It is named after the Swiss mathematician Jacob Bernoulli, who introduced the concept in his book \"Ars Conjectandi\" in 1713.\n",
        "\n",
        "The Bernoulli Distribution is characterized by a single parameter p, which represents the probability of success in a single trial. The probability mass function of a Bernoulli random variable X is given by:\n",
        "\n",
        "P(X = 1) = p\n",
        "P(X = 0) = 1 - p\n",
        "\n",
        "where X = 1 represents success and X = 0 represents failure.\n",
        "\n",
        "An example of the Bernoulli Distribution is a coin toss, where success can be defined as getting a head, and failure can be defined as getting a tail. The probability of success (getting a head) is p = 0.5, and the probability of failure (getting a tail) is 1 - p = 0.5.\n",
        "\n",
        "The Binomial Distribution, on the other hand, models the number of successes in a fixed number of independent Bernoulli trials. It is characterized by two parameters: n, the number of trials, and p, the probability of success in a single trial. The probability mass function of a Binomial random variable X is given by:\n",
        "\n",
        "P(X = k) = (n choose k) * p^k * (1 - p)^(n-k)\n",
        "\n",
        "where k is the number of successes, (n choose k) is the binomial coefficient, which represents the number of ways to choose k items out of n, and p^k * (1 - p)^(n-k) represents the probability of getting k successes and (n-k) failures in n trials.\n",
        "\n",
        "The main difference between the Bernoulli Distribution and the Binomial Distribution is that the Bernoulli Distribution models the outcomes of a single binary trial, while the Binomial Distribution models the number of successes in a fixed number of independent Bernoulli trials. The Binomial Distribution can be thought of as the sum of n independent Bernoulli random variables, each with parameter p.\n",
        "\n",
        "An example of the Binomial Distribution is the number of heads obtained when tossing a coin n times. Each toss of the coin can be modeled as a Bernoulli trial, with probability of success p = 0.5 (getting a head), and the total number of heads obtained in n tosses can be modeled as a Binomial random variable."
      ],
      "metadata": {
        "id": "nFAv9z3ZT7AL"
      }
    },
    {
      "cell_type": "code",
      "source": [],
      "metadata": {
        "id": "WE5E75CiUAyV"
      },
      "execution_count": null,
      "outputs": []
    },
    {
      "cell_type": "markdown",
      "source": [
        "ans 6:\n",
        "Given:\n",
        "Mean (μ) = 50\n",
        "Standard deviation (σ) = 10\n",
        "\n",
        "We want to find the probability that a randomly selected observation from this dataset will be greater than 60.\n",
        "\n",
        "Using the standard normal distribution, we can first standardize the observation:\n",
        "\n",
        "z = (x - μ) / σ\n",
        "where x is the value of the observation we are interested in.\n",
        "\n",
        "In this case, x = 60, so:\n",
        "z = (60 - 50) / 10\n",
        "z = 1\n",
        "\n",
        "We can now use a standard normal distribution table or calculator to find the probability that a standard normal variable is greater than 1. Using a table or calculator, we find that the probability is approximately 0.1587.\n",
        "\n",
        "Therefore, the probability that a randomly selected observation from this dataset will be greater than 60 is approximately 0.1587 or 15.87%.\n"
      ],
      "metadata": {
        "id": "RWMvJmp1UBvF"
      }
    },
    {
      "cell_type": "code",
      "source": [],
      "metadata": {
        "id": "Qu0h6pXLUKM0"
      },
      "execution_count": null,
      "outputs": []
    },
    {
      "cell_type": "markdown",
      "source": [
        "ans 7:The Uniform Distribution is a probability distribution that describes a situation where all possible outcomes of an event are equally likely. It is also known as a rectangular distribution because the probability density function is constant between two values, and zero elsewhere.\n",
        "\n",
        "The probability density function of a uniform distribution with parameters a and b is given by:\n",
        "\n",
        "f(x) = 1 / (b - a) if a ≤ x ≤ b\n",
        "= 0 otherwise\n",
        "\n",
        "where a is the minimum value and b is the maximum value of the distribution.\n",
        "\n",
        "An example of a uniform distribution is the rolling of a fair die. The die has six sides, and each side has an equal probability of landing face up. The minimum value of the distribution is 1, and the maximum value is 6. Therefore, the probability of rolling any value between 1 and 6 is 1/6, and the probability density function is constant between 1 and 6 and zero elsewhere.\n",
        "\n",
        "Another example of a uniform distribution is the distribution of the arrival times of customers at a store, assuming that customers arrive randomly and independently. If the store is open from 9am to 5pm, the minimum value of the distribution is 9am, and the maximum value is 5pm. The probability of a customer arriving at any time between 9am and 5pm is equal, and the probability density function is constant between 9am and 5pm and zero elsewhere.\n",
        "\n",
        "The uniform distribution is useful in situations where all possible outcomes are equally likely, and there is no reason to believe that any outcome is more likely than any other outcome."
      ],
      "metadata": {
        "id": "xv8jDIpTULPh"
      }
    },
    {
      "cell_type": "code",
      "source": [],
      "metadata": {
        "id": "GiwBiZDtURz9"
      },
      "execution_count": null,
      "outputs": []
    },
    {
      "cell_type": "markdown",
      "source": [
        "ans 8:\n",
        "The z-score, also known as the standard score, is a measure of how many standard deviations an observation or data point is away from the mean of the distribution. It is used to standardize and compare data across different normal distributions. The formula for calculating the z-score is:\n",
        "\n",
        "z = (x - μ) / σ\n",
        "\n",
        "where x is the observed value, μ is the mean of the distribution, and σ is the standard deviation of the distribution.\n",
        "\n",
        "The importance of the z-score is that it allows us to compare observations or data points from different normal distributions. Since the z-score measures the number of standard deviations away from the mean, we can compare data from distributions with different means and standard deviations on the same scale.\n",
        "\n",
        "For example, if we have two normal distributions with different means and standard deviations, we can use the z-score to compare observations from these distributions. If we calculate the z-score for an observation in each distribution, we can compare the two z-scores to determine which observation is relatively more extreme or unusual, regardless of the difference in means and standard deviations between the two distributions.\n",
        "\n",
        "The z-score is also used to calculate probabilities and percentiles in the standard normal distribution, which is a normal distribution with a mean of 0 and a standard deviation of 1. By converting an observation from a normal distribution to a z-score, we can determine the probability of that observation occurring in the standard normal distribution or the percentile rank of that observation within the distribution."
      ],
      "metadata": {
        "id": "iN-r8GSkUSxo"
      }
    },
    {
      "cell_type": "code",
      "source": [],
      "metadata": {
        "id": "vd-QLyR3UZ0m"
      },
      "execution_count": null,
      "outputs": []
    },
    {
      "cell_type": "markdown",
      "source": [
        "ans 9:The Central Limit Theorem (CLT) is a statistical principle that states that the distribution of the sample means of a large number of independent, identically distributed random variables will be approximately normal, regardless of the shape of the original population distribution.\n",
        "\n",
        "More specifically, the Central Limit Theorem states that as the sample size increases, the sampling distribution of the mean approaches a normal distribution with a mean equal to the population mean and a standard deviation equal to the population standard deviation divided by the square root of the sample size.\n",
        "\n",
        "The significance of the Central Limit Theorem is that it provides a way to estimate population parameters (such as the mean and standard deviation) from sample statistics (such as the mean and standard deviation of a sample) using the normal distribution, even when the population distribution is not known or is not normally distributed. It also helps to explain why the normal distribution arises so frequently in statistics and in real-world applications.\n",
        "\n",
        "The Central Limit Theorem is important in many fields of study, including finance, economics, engineering, and social sciences. It is commonly used in hypothesis testing, confidence interval estimation, and statistical inference. The theorem is also important for quality control, where it is used to monitor the mean and variance of production processes, and for survey sampling, where it is used to estimate population parameters based on a sample of responses."
      ],
      "metadata": {
        "id": "LpTwC9UCUbkV"
      }
    },
    {
      "cell_type": "code",
      "source": [],
      "metadata": {
        "id": "VtIpeYl_UgZx"
      },
      "execution_count": null,
      "outputs": []
    },
    {
      "cell_type": "markdown",
      "source": [
        "ans 10:\n",
        "The Central Limit Theorem (CLT) has certain assumptions that must be met in order for it to apply. These assumptions include:\n",
        "\n",
        "Independent and Identically Distributed (IID) Sample: The observations in the sample should be independent of each other and should be drawn from the same population.\n",
        "\n",
        "Sample Size: The sample size should be sufficiently large. A common rule of thumb is that the sample size should be greater than or equal to 30, although this may vary depending on the distribution of the population.\n",
        "\n",
        "Finite Variance: The population variance should be finite. If the population variance is infinite or unknown, other methods such as the bootstrap method may be used.\n",
        "\n",
        "Population Distribution: The population distribution does not need to be normal, but it should have a finite mean and variance.\n",
        "\n",
        "It is important to note that violating any of these assumptions may result in the Central Limit Theorem not holding, and the resulting distribution of the sample mean may not be normal. Additionally, the degree to which the Central Limit Theorem applies may depend on the sample size, the population distribution, and the specific statistical method being used."
      ],
      "metadata": {
        "id": "HAVzfxMtUhLJ"
      }
    },
    {
      "cell_type": "code",
      "source": [],
      "metadata": {
        "id": "hzB0Tj9RUnPs"
      },
      "execution_count": null,
      "outputs": []
    }
  ]
}