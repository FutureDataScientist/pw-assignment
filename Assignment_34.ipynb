{
  "nbformat": 4,
  "nbformat_minor": 0,
  "metadata": {
    "colab": {
      "provenance": []
    },
    "kernelspec": {
      "name": "python3",
      "display_name": "Python 3"
    },
    "language_info": {
      "name": "python"
    }
  },
  "cells": [
    {
      "cell_type": "code",
      "execution_count": 1,
      "metadata": {
        "id": "Lf7xUdQdX_ts"
      },
      "outputs": [],
      "source": [
        "##assignment 34"
      ]
    },
    {
      "cell_type": "code",
      "source": [],
      "metadata": {
        "id": "yZxK-nvwYF6J"
      },
      "execution_count": null,
      "outputs": []
    },
    {
      "cell_type": "markdown",
      "source": [
        "ans 1:Estimation statistics is a branch of statistics that involves estimating or approximating population parameters based on sample data. In other words, it is the process of making inferences about a population parameter based on information obtained from a sample of that population.\n",
        "\n",
        "Point Estimate:\n",
        "\n",
        "A point estimate is a single value that is used to approximate an unknown population parameter. For example, if we want to estimate the mean height of all students in a school, we can take a random sample of students and compute the mean height of the sample. This sample mean can be used as a point estimate of the population mean height.\n",
        "\n",
        "Interval Estimate:\n",
        "\n",
        "Interval estimate is a range of values that is used to estimate an unknown population parameter. This range is called a confidence interval and is based on the sample data. The confidence interval provides an estimate of the population parameter along with a measure of the precision or uncertainty associated with the estimate.\n",
        "\n",
        "For example, if we want to estimate the mean height of all students in a school, we can take a random sample of students and compute the mean height of the sample. We can then use this sample mean along with the sample size and standard deviation to construct a confidence interval for the population mean height. The confidence interval provides a range of values within which we are confident that the true population mean height lies. For example, a 95% confidence interval for the population mean height might be (65 inches, 70 inches), which means that we are 95% confident that the true population mean height falls within this range."
      ],
      "metadata": {
        "id": "I-5ZO4HsYG2k"
      }
    },
    {
      "cell_type": "code",
      "source": [
        "#ans 2:\n",
        "def estimate_population_mean(sample_mean, sample_std_dev, sample_size):\n",
        "    import math\n",
        "    \n",
        "    # Calculate the standard error of the mean\n",
        "    std_err_mean = sample_std_dev / math.sqrt(sample_size)\n",
        "    \n",
        "    # Calculate the margin of error for a 95% confidence interval\n",
        "    margin_of_error = 1.96 * std_err_mean\n",
        "    \n",
        "    # Calculate the lower and upper bounds of the confidence interval\n",
        "    lower_bound = sample_mean - margin_of_error\n",
        "    upper_bound = sample_mean + margin_of_error\n",
        "    \n",
        "    # Return the estimated population mean and the confidence interval\n",
        "    return (sample_mean, lower_bound, upper_bound)\n"
      ],
      "metadata": {
        "id": "tbsk3B9MYMta"
      },
      "execution_count": 2,
      "outputs": []
    },
    {
      "cell_type": "code",
      "source": [
        "sample_mean = 10.5\n",
        "sample_std_dev = 2.3\n",
        "sample_size = 100\n",
        "\n",
        "population_mean, lower_bound, upper_bound = estimate_population_mean(sample_mean, sample_std_dev, sample_size)\n",
        "\n",
        "print(\"Estimated population mean: \", population_mean)\n",
        "print(\"95% confidence interval: (\", lower_bound, \", \", upper_bound, \")\")\n"
      ],
      "metadata": {
        "colab": {
          "base_uri": "https://localhost:8080/"
        },
        "id": "3poj_h7uYTnA",
        "outputId": "ad124a4c-1626-4c61-8655-1f80822a86da"
      },
      "execution_count": 4,
      "outputs": [
        {
          "output_type": "stream",
          "name": "stdout",
          "text": [
            "Estimated population mean:  10.5\n",
            "95% confidence interval: ( 10.0492 ,  10.9508 )\n"
          ]
        }
      ]
    },
    {
      "cell_type": "code",
      "source": [],
      "metadata": {
        "id": "p6pRNJMZYWu6"
      },
      "execution_count": null,
      "outputs": []
    },
    {
      "cell_type": "markdown",
      "source": [
        "ans 3:\n",
        "Hypothesis testing is a statistical method used to make decisions about the validity of a hypothesis or claim about a population parameter. It involves comparing the results obtained from a sample to what would be expected if the hypothesis or claim were true.\n",
        "\n",
        "Hypothesis testing is used in many fields, including science, engineering, social sciences, and business, to test theories, validate assumptions, and make informed decisions. It is an essential tool for making statistically sound conclusions based on data and is used to determine whether a hypothesis should be rejected or accepted based on the evidence provided by the data.\n",
        "\n",
        "The importance of hypothesis testing lies in its ability to provide a structured framework for making decisions based on data. It helps to ensure that decisions are made based on empirical evidence rather than assumptions or opinions. It also helps to identify potential sources of error or bias in data collection and analysis, which can lead to more accurate and reliable conclusions.\n",
        "\n",
        "Hypothesis testing also allows us to determine the statistical significance of results. This is important because it enables us to distinguish between results that are due to chance and those that are likely to be representative of the population. By doing so, it helps to avoid false conclusions and ensures that decisions are based on meaningful results.\n",
        "\n",
        "In summary, hypothesis testing is an essential statistical tool used to test hypotheses and claims about population parameters. It provides a structured framework for making decisions based on data, helps to identify sources of error and bias, and enables us to determine the statistical significance of results. It is therefore crucial for making informed decisions and drawing valid conclusions based on data."
      ],
      "metadata": {
        "id": "0GXj1wxAYfl8"
      }
    },
    {
      "cell_type": "code",
      "source": [],
      "metadata": {
        "id": "_5PZqh3dYhMC"
      },
      "execution_count": null,
      "outputs": []
    },
    {
      "cell_type": "markdown",
      "source": [
        "ans 4:\n",
        "The hypothesis can be stated as follows:\n",
        "\n",
        "Null hypothesis (H0): The average weight of male college students is equal to or less than the average weight of female college students.\n",
        "\n",
        "Alternative hypothesis (Ha): The average weight of male college students is greater than the average weight of female college students.\n",
        "\n",
        "Symbolically, this can be represented as:\n",
        "\n",
        "H0: μ_male ≤ μ_female\n",
        "\n",
        "Ha: μ_male > μ_female\n",
        "\n",
        "Where μ_male represents the population mean weight of male college students and μ_female represents the population mean weight of female college students.\n",
        "\n",
        "To test this hypothesis, we would need to collect a sample of weights of male and female college students and perform a statistical test, such as a t-test, to determine whether the difference in the sample means is statistically significant. If the test results provide sufficient evidence to reject the null hypothesis, we can conclude that the average weight of male college students is indeed greater than the average weight of female college students."
      ],
      "metadata": {
        "id": "4dg10u0FYlx1"
      }
    },
    {
      "cell_type": "code",
      "source": [
        "#ans 5:\n",
        "import numpy as np\n",
        "from scipy.stats import ttest_ind\n",
        "\n",
        "# Generate two sets of random data\n",
        "np.random.seed(123)\n",
        "sample1 = np.random.normal(loc=10, scale=2, size=100)\n",
        "sample2 = np.random.normal(loc=12, scale=2, size=100)\n",
        "\n",
        "# Calculate the sample means and standard deviations\n",
        "mean1 = np.mean(sample1)\n",
        "mean2 = np.mean(sample2)\n",
        "std_dev1 = np.std(sample1, ddof=1)\n",
        "std_dev2 = np.std(sample2, ddof=1)\n",
        "\n",
        "# Calculate the degrees of freedom\n",
        "df = len(sample1) + len(sample2) - 2\n",
        "\n",
        "# Calculate the t-statistic and p-value using a two-sided t-test\n",
        "t_stat, p_val = ttest_ind(sample1, sample2, equal_var=False)\n",
        "\n",
        "# Set the significance level and print the results\n",
        "alpha = 0.05\n",
        "print(\"Sample 1 Mean: \", mean1)\n",
        "print(\"Sample 2 Mean: \", mean2)\n",
        "print(\"Sample 1 Standard Deviation: \", std_dev1)\n",
        "print(\"Sample 2 Standard Deviation: \", std_dev2)\n",
        "print(\"Degrees of Freedom: \", df)\n",
        "print(\"T-Statistic: \", t_stat)\n",
        "print(\"P-Value: \", p_val)\n",
        "\n",
        "if p_val < alpha:\n",
        "    print(\"Reject the null hypothesis\")\n",
        "else:\n",
        "    print(\"Fail to reject the null hypothesis\")\n"
      ],
      "metadata": {
        "colab": {
          "base_uri": "https://localhost:8080/"
        },
        "id": "MZRN7JXOYoOk",
        "outputId": "e413019c-d61b-434e-93f5-b8430ffd7afd"
      },
      "execution_count": 5,
      "outputs": [
        {
          "output_type": "stream",
          "name": "stdout",
          "text": [
            "Sample 1 Mean:  10.05421814698072\n",
            "Sample 2 Mean:  11.960928876179707\n",
            "Sample 1 Standard Deviation:  2.2678486750723907\n",
            "Sample 2 Standard Deviation:  1.9498810785539615\n",
            "Degrees of Freedom:  198\n",
            "T-Statistic:  -6.375150151768143\n",
            "P-Value:  1.308795978330564e-09\n",
            "Reject the null hypothesis\n"
          ]
        }
      ]
    },
    {
      "cell_type": "code",
      "source": [],
      "metadata": {
        "id": "tqi97AupY1Lk"
      },
      "execution_count": null,
      "outputs": []
    },
    {
      "cell_type": "markdown",
      "source": [
        "ans 6:\n",
        "A null hypothesis is a statement that assumes there is no significant difference or relationship between two or more variables in a population. The alternative hypothesis, on the other hand, is a statement that contradicts the null hypothesis by asserting that there is a significant difference or relationship between the variables in the population.\n",
        "\n",
        "Here are some examples of null and alternative hypotheses:\n",
        "\n",
        "Null hypothesis: There is no difference in the average weight loss between two different diets.\n",
        "Alternative hypothesis: There is a difference in the average weight loss between two different diets.\n",
        "\n",
        "Null hypothesis: There is no association between caffeine consumption and risk of heart disease.\n",
        "Alternative hypothesis: There is an association between caffeine consumption and risk of heart disease.\n",
        "\n",
        "Null hypothesis: There is no significant difference in the mean salaries of male and female employees in a company.\n",
        "Alternative hypothesis: There is a significant difference in the mean salaries of male and female employees in a company.\n",
        "\n",
        "Null hypothesis: There is no relationship between smoking and lung cancer.\n",
        "Alternative hypothesis: There is a relationship between smoking and lung cancer.\n",
        "\n",
        "Null hypothesis: There is no difference in the effectiveness of two different pain relievers.\n",
        "Alternative hypothesis: There is a difference in the effectiveness of two different pain relievers."
      ],
      "metadata": {
        "id": "Cz7Fl6mAY7i-"
      }
    },
    {
      "cell_type": "code",
      "source": [],
      "metadata": {
        "id": "OoYwxWVpY8-Y"
      },
      "execution_count": null,
      "outputs": []
    },
    {
      "cell_type": "markdown",
      "source": [
        "ans 7:\n",
        "Here are the general steps involved in hypothesis testing:\n",
        "\n",
        "State the null and alternative hypotheses: The null hypothesis is the default assumption that there is no significant difference or relationship between the variables being tested, while the alternative hypothesis is the assertion that there is a significant difference or relationship.\n",
        "\n",
        "Determine the appropriate test statistic: The test statistic depends on the nature of the variables being tested and the type of hypothesis being tested. For example, if comparing means of two groups, a t-test can be used.\n",
        "\n",
        "Set the significance level (alpha): This is the probability of rejecting the null hypothesis when it is actually true. The most common alpha value is 0.05, meaning that there is a 5% chance of rejecting the null hypothesis when it is true.\n",
        "\n",
        "Collect the data: Collect data that can be used to test the hypothesis.\n",
        "\n",
        "Calculate the test statistic: Use the appropriate formula to calculate the test statistic from the collected data.\n",
        "\n",
        "Determine the p-value: The p-value is the probability of obtaining a test statistic at least as extreme as the one observed, assuming that the null hypothesis is true.\n",
        "\n",
        "Make a decision: Compare the p-value to the significance level. If the p-value is less than the significance level, reject the null hypothesis in favor of the alternative hypothesis. If the p-value is greater than or equal to the significance level, fail to reject the null hypothesis.\n",
        "\n",
        "Interpret the results: If the null hypothesis is rejected, interpret the results in the context of the problem and draw appropriate conclusions. If the null hypothesis is not rejected, interpret the results accordingly and consider possible reasons why no significant difference or relationship was found.\n",
        "\n",
        "Draw conclusions: Based on the results and interpretation, draw appropriate conclusions about the hypothesis being tested and its implications."
      ],
      "metadata": {
        "id": "88uz7kLsZBKe"
      }
    },
    {
      "cell_type": "code",
      "source": [],
      "metadata": {
        "id": "_VXBx0_3ZC9g"
      },
      "execution_count": null,
      "outputs": []
    },
    {
      "cell_type": "markdown",
      "source": [
        "ans 8:\n",
        "In hypothesis testing, the p-value is the probability of obtaining a test statistic at least as extreme as the one observed, assuming that the null hypothesis is true. It is a measure of the strength of evidence against the null hypothesis.\n",
        "\n",
        "The significance of the p-value lies in its ability to help us make decisions about the null hypothesis. If the p-value is less than or equal to the significance level (alpha), we reject the null hypothesis and accept the alternative hypothesis. This means that we have evidence to suggest that there is a significant difference or relationship between the variables being tested.\n",
        "\n",
        "Conversely, if the p-value is greater than the significance level, we fail to reject the null hypothesis. This means that we do not have sufficient evidence to suggest that there is a significant difference or relationship between the variables being tested.\n",
        "\n",
        "The p-value also allows us to quantify the level of significance of the results. A p-value of 0.05, for example, indicates that there is a 5% chance of obtaining the observed test statistic if the null hypothesis is true. The smaller the p-value, the stronger the evidence against the null hypothesis."
      ],
      "metadata": {
        "id": "hDjHW_WBZGet"
      }
    },
    {
      "cell_type": "code",
      "source": [
        "#ans 9:\n",
        "import numpy as np\n",
        "import matplotlib.pyplot as plt\n",
        "\n",
        "# Generate x values from -4 to 4\n",
        "x = np.linspace(-4, 4, 1000)\n",
        "\n",
        "# Calculate y values for the t-distribution with 10 degrees of freedom\n",
        "#y = stats.t.pdf(x, 10)\n",
        "\n",
        "# Create a plot\n",
        "plt.plot(x, x)\n",
        "\n",
        "# Set x and y axis labels and title\n",
        "plt.xlabel('X')\n",
        "plt.ylabel('Probability density')\n",
        "plt.title(\"Student's t-distribution with 10 degrees of freedom\")\n",
        "\n",
        "# Show the plot\n",
        "plt.show()\n"
      ],
      "metadata": {
        "colab": {
          "base_uri": "https://localhost:8080/",
          "height": 472
        },
        "id": "PkYaJoFXZI-I",
        "outputId": "a42fbf8a-c735-40a3-e923-843f494dfba1"
      },
      "execution_count": 8,
      "outputs": [
        {
          "output_type": "display_data",
          "data": {
            "text/plain": [
              "<Figure size 640x480 with 1 Axes>"
            ],
            "image/png": "[encoded data removed]"
          },
          "metadata": {}
        }
      ]
    },
    {
      "cell_type": "code",
      "source": [
        "#ans 10:\n",
        "import numpy as np\n",
        "from scipy.stats import ttest_ind\n",
        "\n",
        "# Generate two random samples of equal size\n",
        "sample1 = np.random.normal(loc=5, scale=2, size=50)\n",
        "sample2 = np.random.normal(loc=6, scale=2, size=50)\n",
        "\n",
        "# Calculate the two-sample t-test for independent samples with equal variances\n",
        "t_stat, p_val = ttest_ind(sample1, sample2)\n",
        "\n",
        "# Print the results\n",
        "print(\"Sample 1 Mean:\", np.mean(sample1))\n",
        "print(\"Sample 2 Mean:\", np.mean(sample2))\n",
        "print(\"t-statistic:\", t_stat)\n",
        "print(\"p-value:\", p_val)\n"
      ],
      "metadata": {
        "colab": {
          "base_uri": "https://localhost:8080/"
        },
        "id": "9xw_ktohZRwO",
        "outputId": "3b2ad28b-304d-48f1-96d9-c53e9335d4ef"
      },
      "execution_count": 9,
      "outputs": [
        {
          "output_type": "stream",
          "name": "stdout",
          "text": [
            "Sample 1 Mean: 4.763545362561941\n",
            "Sample 2 Mean: 5.8559293924801725\n",
            "t-statistic: -2.7894817308536237\n",
            "p-value: 0.006344107948591172\n"
          ]
        }
      ]
    },
    {
      "cell_type": "code",
      "source": [],
      "metadata": {
        "id": "yPqaWp3sZy4u"
      },
      "execution_count": null,
      "outputs": []
    },
    {
      "cell_type": "markdown",
      "source": [
        "ans 11:\n",
        "Student's t-distribution is a probability distribution that is used to estimate the population mean of a normally distributed variable when the sample size is small (typically less than 30) or the population standard deviation is unknown.\n",
        "\n",
        "The t-distribution is similar in shape to the standard normal distribution but has heavier tails, meaning that it is more spread out and has more probability in the tails. The shape of the t-distribution depends on the sample size and is controlled by the degrees of freedom parameter, which is calculated as the sample size minus one.\n",
        "\n",
        "The t-distribution is used in situations where we want to estimate the population mean based on a sample mean, but we do not know the population standard deviation or the sample size is small. For example, it can be used to test whether there is a significant difference between the means of two groups when the sample sizes are small.\n",
        "\n",
        "The t-distribution is also used in hypothesis testing, where we want to test a hypothesis about a population mean based on a sample mean. In this case, we can calculate a t-statistic by dividing the difference between the sample mean and the hypothesized population mean by the standard error of the mean, which is calculated using the sample standard deviation and sample size. The t-statistic follows a t-distribution with degrees of freedom equal to the sample size minus one, and we can use this distribution to calculate a p-value and make a decision about whether to reject or fail to reject the null hypothesis."
      ],
      "metadata": {
        "id": "DJhOkPaRZ44i"
      }
    },
    {
      "cell_type": "code",
      "source": [],
      "metadata": {
        "id": "ytbQ3WuCZ-IT"
      },
      "execution_count": null,
      "outputs": []
    },
    {
      "cell_type": "markdown",
      "source": [
        "ans 12:\n",
        "The t-statistic is a test statistic that is used in hypothesis testing to test whether the difference between a sample mean and a hypothesized population mean is statistically significant. It is calculated by dividing the difference between the sample mean and the hypothesized population mean by the standard error of the mean.\n",
        "\n",
        "The formula for the t-statistic is:\n",
        "\n",
        "t = (x̄ - μ) / (s / √n)\n",
        "\n",
        "Where:\n",
        "\n",
        "x̄ is the sample mean\n",
        "μ is the hypothesized population mean\n",
        "s is the sample standard deviation\n",
        "n is the sample size\n",
        "The t-statistic measures how many standard errors the sample mean is away from the hypothesized population mean. If the t-statistic is large enough, we can reject the null hypothesis and conclude that the difference between the sample mean and the hypothesized population mean is statistically significant. The critical value for the t-statistic depends on the sample size and the level of significance (usually set at 0.05 or 0.01) and is looked up in a t-distribution table or calculated using software."
      ],
      "metadata": {
        "id": "lyp-XnBTaC9R"
      }
    },
    {
      "cell_type": "code",
      "source": [],
      "metadata": {
        "id": "Ln8T-aaZaFMB"
      },
      "execution_count": null,
      "outputs": []
    },
    {
      "cell_type": "markdown",
      "source": [
        "ans 13:\n",
        "We can use the t-distribution to calculate a confidence interval for the population mean revenue. Since the sample size is large enough (n=50), we can assume that the sample mean is normally distributed.\n",
        "\n",
        "The formula for a confidence interval for the population mean is:\n",
        "\n",
        "x̄ ± t*(s/√n)\n",
        "\n",
        "where:\n",
        "\n",
        "x̄ is the sample mean ($500)\n",
        "t is the t-score for a 95% confidence interval with 49 degrees of freedom (looked up in a t-distribution table or calculated using software, it is approximately 2.01)\n",
        "s is the sample standard deviation ($50)\n",
        "n is the sample size (50)\n",
        "Plugging in the values, we get:\n",
        "\n",
        "$500 ± 2.01 * ($50 / √50)\n",
        "\n",
        "Simplifying the expression, we get:\n",
        "\n",
        "$500 ± $14.14\n",
        "\n",
        "So the 95% confidence interval for the population mean revenue is:\n",
        "\n",
        "($485.86, $514.14)\n",
        "\n",
        "Therefore, we can say with 95% confidence that the true average daily revenue for the coffee shop falls within this interval."
      ],
      "metadata": {
        "id": "yyeV8WaqaKtD"
      }
    },
    {
      "cell_type": "code",
      "source": [],
      "metadata": {
        "id": "ZZ7BvCq2aMtk"
      },
      "execution_count": 9,
      "outputs": []
    },
    {
      "cell_type": "markdown",
      "source": [
        "ans 14:\n",
        "To test the hypothesis, we can use a one-sample t-test with the following null and alternative hypotheses:\n",
        "\n",
        "Null hypothesis (H0): The true mean decrease in blood pressure is equal to 10 mmHg.\n",
        "Alternative hypothesis (HA): The true mean decrease in blood pressure is less than 10 mmHg.\n",
        "The test statistic for the one-sample t-test is calculated as:\n",
        "\n",
        "t = (x̄ - μ) / (s / √n)\n",
        "\n",
        "where:\n",
        "\n",
        "x̄ is the sample mean decrease in blood pressure (8 mmHg)\n",
        "μ is the hypothesized population mean decrease in blood pressure (10 mmHg)\n",
        "s is the sample standard deviation (3 mmHg)\n",
        "n is the sample size (100)\n",
        "Plugging in the values, we get:\n",
        "\n",
        "t = (8 - 10) / (3 / √100) = -2.82\n",
        "\n",
        "The degrees of freedom for the test is n-1 = 99. At a significance level of 0.05 and with 99 degrees of freedom, the critical t-value is -1.66 (obtained from a t-distribution table or using software).\n",
        "\n",
        "Since the calculated t-value (-2.82) is less than the critical t-value (-1.66), we reject the null hypothesis and conclude that the true mean decrease in blood pressure is less than 10 mmHg with a significance level of 0.05.\n",
        "\n",
        "Therefore, we can say with 95% confidence that the new drug does decrease blood pressure, but the mean decrease is less than 10 mmHg."
      ],
      "metadata": {
        "id": "TEUBJcYYaRRN"
      }
    },
    {
      "cell_type": "code",
      "source": [],
      "metadata": {
        "id": "X6tRyrguaS4c"
      },
      "execution_count": null,
      "outputs": []
    },
    {
      "cell_type": "markdown",
      "source": [
        "ans 15:\n",
        "To test the hypothesis, we can use a one-sample t-test with the following null and alternative hypotheses:\n",
        "\n",
        "Null hypothesis (H0): The true mean weight of the products is equal to 5 pounds.\n",
        "Alternative hypothesis (HA): The true mean weight of the products is less than 5 pounds.\n",
        "The test statistic for the one-sample t-test is calculated as:\n",
        "\n",
        "t = (x̄ - μ) / (s / √n)\n",
        "\n",
        "where:\n",
        "\n",
        "x̄ is the sample mean weight (4.8 pounds)\n",
        "μ is the hypothesized population mean weight (5 pounds)\n",
        "s is the sample standard deviation (0.5 pounds)\n",
        "n is the sample size (25)\n",
        "Plugging in the values, we get:\n",
        "\n",
        "t = (4.8 - 5) / (0.5 / √25) = -2\n",
        "\n",
        "The degrees of freedom for the test is n-1 = 24. At a significance level of 0.01 and with 24 degrees of freedom, the critical t-value is -2.492 (obtained from a t-distribution table or using software).\n",
        "\n",
        "Since the calculated t-value (-2) is greater than the critical t-value (-2.492), we reject the null hypothesis and conclude that the true mean weight of the products is less than 5 pounds with a significance level of 0.01.\n",
        "\n",
        "Therefore, the electronics company needs to investigate the reason for the products' lower weight and take necessary measures to improve the quality of their products."
      ],
      "metadata": {
        "id": "n8DqUifoaXOr"
      }
    },
    {
      "cell_type": "code",
      "source": [],
      "metadata": {
        "id": "gBAMnKOgaYx0"
      },
      "execution_count": null,
      "outputs": []
    },
    {
      "cell_type": "markdown",
      "source": [
        "ans 16:\n",
        "To test the hypothesis, we can use a two-sample t-test with the following null and alternative hypotheses:\n",
        "\n",
        "Null hypothesis (H0): The population means for the two groups are equal.\n",
        "Alternative hypothesis (HA): The population means for the two groups are not equal.\n",
        "The test statistic for the two-sample t-test is calculated as:\n",
        "\n",
        "t = (x̄1 - x̄2) / sqrt[(s1^2 / n1) + (s2^2 / n2)]\n",
        "\n",
        "where:\n",
        "\n",
        "x̄1 and x̄2 are the sample means for the two groups (80 and 75, respectively)\n",
        "s1 and s2 are the sample standard deviations for the two groups (10 and 8, respectively)\n",
        "n1 and n2 are the sample sizes for the two groups (30 and 40, respectively)\n",
        "Plugging in the values, we get:\n",
        "\n",
        "t = (80 - 75) / sqrt[(10^2 / 30) + (8^2 / 40)] = 2.67\n",
        "\n",
        "The degrees of freedom for the test is (n1 + n2 - 2) = 68. At a significance level of 0.01 and with 68 degrees of freedom, the critical t-value for a two-tailed test is ±2.656 (obtained from a t-distribution table or using software).\n",
        "\n",
        "Since the calculated t-value (2.67) is greater than the critical t-value (±2.656), we reject the null hypothesis and conclude that the population means for the two groups are not equal with a significance level of 0.01.\n",
        "\n",
        "Therefore, we can infer that the study materials given to the two groups are different and might have had an impact on their test scores. Further investigation is needed to determine which study materials were more effective in improving test scores."
      ],
      "metadata": {
        "id": "tOUo4CeTadLk"
      }
    },
    {
      "cell_type": "code",
      "source": [
        "#ans 17:\n",
        "\n",
        "from scipy.stats import t\n",
        "\n",
        "alpha = 0.01  # 99% confidence interval, so alpha = 1 - 0.99 = 0.01\n",
        "df = 49\n",
        "t_value = t.ppf(alpha/2, df)\n",
        "print(\"t-value:\", t_value)\n"
      ],
      "metadata": {
        "colab": {
          "base_uri": "https://localhost:8080/"
        },
        "id": "VHP3Cg05aeqp",
        "outputId": "a46e440b-2712-413f-f935-eaf1d5143781"
      },
      "execution_count": 10,
      "outputs": [
        {
          "output_type": "stream",
          "name": "stdout",
          "text": [
            "t-value: -2.6799519736315505\n"
          ]
        }
      ]
    },
    {
      "cell_type": "markdown",
      "source": [
        "ans 17:\n"
      ],
      "metadata": {
        "id": "EgwjenpPaf5s"
      }
    }
  ]
}