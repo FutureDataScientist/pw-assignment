{
  "nbformat": 4,
  "nbformat_minor": 0,
  "metadata": {
    "colab": {
      "provenance": []
    },
    "kernelspec": {
      "name": "python3",
      "display_name": "Python 3"
    },
    "language_info": {
      "name": "python"
    }
  },
  "cells": [
    {
      "cell_type": "code",
      "execution_count": 1,
      "metadata": {
        "id": "0Ab-74p-EnGf"
      },
      "outputs": [],
      "source": [
        "##Assignment 31\n"
      ]
    },
    {
      "cell_type": "code",
      "source": [],
      "metadata": {
        "id": "BIxj_RUMEt_r"
      },
      "execution_count": null,
      "outputs": []
    },
    {
      "cell_type": "markdown",
      "source": [
        "ans 1:A t-test and a z-test are statistical tests used to make inferences about the population based on sample data. The main difference between the two tests is that a t-test is used when the sample size is small (less than 30), and the population standard deviation is unknown, whereas a z-test is used when the sample size is large (greater than 30) and the population standard deviation is known or can be estimated.\n",
        "\n",
        "An example scenario where you might use a t-test is when you want to compare the mean score of a sample of students on a test to the population mean score. Suppose you have a sample of 20 students, and you want to determine if their mean score is significantly different from the population mean score. Since the population standard deviation is unknown, you would use a t-test."
      ],
      "metadata": {
        "id": "J-z1Bz1ZEw9E"
      }
    },
    {
      "cell_type": "code",
      "source": [],
      "metadata": {
        "id": "JG9i_SLeFfTk"
      },
      "execution_count": null,
      "outputs": []
    },
    {
      "cell_type": "markdown",
      "source": [
        "ans 2:One-tailed and two-tailed tests are types of hypothesis tests used in statistical analysis to test the significance of a sample statistic.\n",
        "\n",
        "A one-tailed test is a statistical test where the alternative hypothesis is expressed in terms of either a greater than or less than relationship between the sample statistic and the population parameter. In other words, a one-tailed test is used to determine if the sample statistic is significantly greater than or less than the population parameter in a specific direction. For example, a one-tailed test could be used to determine if a new treatment results in significantly higher test scores than the current treatment.\n",
        "\n",
        "A two-tailed test is a statistical test where the alternative hypothesis is expressed in terms of a two-sided relationship between the sample statistic and the population parameter. In other words, a two-tailed test is used to determine if the sample statistic is significantly different from the population parameter in any direction. For example, a two-tailed test could be used to determine if there is a significant difference in test scores between two groups of students, without specifying which group will have higher scores.\n",
        "\n",
        "The choice between a one-tailed or two-tailed test depends on the research question and the direction of the expected difference between the sample statistic and the population parameter. A one-tailed test is appropriate when there is a specific direction of difference expected, while a two-tailed test is appropriate when the difference could occur in either direction."
      ],
      "metadata": {
        "id": "MK18tgdLFgPW"
      }
    },
    {
      "cell_type": "code",
      "source": [],
      "metadata": {
        "id": "cUZGPG2RFmdq"
      },
      "execution_count": null,
      "outputs": []
    },
    {
      "cell_type": "markdown",
      "source": [
        "ans 3:\n",
        "Type 1 and Type 2 errors are two types of errors that can occur in hypothesis testing.\n",
        "\n",
        "Type 1 error, also known as a false positive, occurs when the null hypothesis is rejected when it is actually true. In other words, it is the error of concluding that there is a significant effect or difference between two groups when there is none. The probability of making a Type 1 error is denoted by the Greek letter alpha (α), and is typically set at 0.05 or 0.01.\n",
        "\n",
        "An example scenario for a Type 1 error is a drug trial where the null hypothesis is that the new drug has no effect on the disease. If the researchers reject the null hypothesis based on the sample data, it could lead to the drug being approved for use even though it has no real effect on the disease.\n",
        "\n",
        "Type 2 error, also known as a false negative, occurs when the null hypothesis is not rejected when it is actually false. In other words, it is the error of failing to detect a significant effect or difference between two groups when there is one. The probability of making a Type 2 error is denoted by the Greek letter beta (β).\n",
        "\n",
        "An example scenario for a Type 2 error is a medical test to detect a disease where the null hypothesis is that the person does not have the disease. If the test fails to detect the disease, it could lead to a false negative result, and the person may not receive the necessary treatment, which could be life-threatening.\n",
        "\n",
        "To minimize the risk of both Type 1 and Type 2 errors, it is important to use appropriate sample sizes, select the correct statistical test, and set appropriate levels of significance for hypothesis testing. It is also important to understand the potential consequences of each type of error in the specific context of the research question."
      ],
      "metadata": {
        "id": "aDF0iaoNF1IU"
      }
    },
    {
      "cell_type": "code",
      "source": [],
      "metadata": {
        "id": "_4c0gCDfF3sS"
      },
      "execution_count": null,
      "outputs": []
    },
    {
      "cell_type": "markdown",
      "source": [
        "ans 4:Bayes's theorem is a mathematical formula used to update the probability of an event occurring based on new evidence or information. It is often used in the field of statistics and machine learning to make predictions or infer the likelihood of an event.\n",
        "\n",
        "Bayes's theorem can be expressed as follows:\n",
        "\n",
        "P(A|B) = P(B|A) * P(A) / P(B)\n",
        "\n",
        "where:\n",
        "\n",
        "P(A|B) is the probability of event A given event B has occurred.\n",
        "P(B|A) is the probability of event B given event A has occurred.\n",
        "P(A) is the prior probability of event A.\n",
        "P(B) is the prior probability of event B.\n",
        "An example of Bayes's theorem in action is the following scenario: Suppose there is a rare disease that affects 1 in 100,000 people. A medical test has been developed to detect the disease, and it is 99% accurate, meaning that it correctly identifies 99% of people who have the disease, and 1% of people who do not have the disease are falsely identified as having it.\n",
        "\n",
        "Let's say you have just taken the test and it came back positive. What is the probability that you actually have the disease?\n",
        "\n",
        "We can apply Bayes's theorem to calculate the probability as follows:\n",
        "\n",
        "P(A) = 1/100,000 = 0.00001 (the prior probability of having the disease)\n",
        "P(B|A) = 0.99 (the probability of testing positive given that you have the disease)\n",
        "P(B|~A) = 0.01 (the probability of testing positive given that you do not have the disease)\n",
        "P(B) = P(A) * P(B|A) + P(~A) * P(B|~A) = 0.00001 * 0.99 + 0.99999 * 0.01 = 0.010098 (the overall probability of testing positive)\n",
        "Using Bayes's theorem, we can calculate the probability of actually having the disease given a positive test result as follows:\n",
        "\n",
        "P(A|B) = P(B|A) * P(A) / P(B) = 0.99 * 0.00001 / 0.010098 = 0.009803 (the probability of having the disease given a positive test result)\n",
        "So, even though the test is 99% accurate, the probability of having the disease given a positive test result is only around 1%. This example demonstrates how Bayes's theorem can be used to update the probability of an event occurring based on new information."
      ],
      "metadata": {
        "id": "gIsTN9gzF4Ug"
      }
    },
    {
      "cell_type": "code",
      "source": [],
      "metadata": {
        "id": "gvThomxGF-Wo"
      },
      "execution_count": null,
      "outputs": []
    },
    {
      "cell_type": "markdown",
      "source": [
        "ans 5:A confidence interval is a statistical measure used to estimate the range of values within which the true value of a population parameter, such as the mean or proportion, is likely to lie with a certain degree of confidence. It is commonly used in inferential statistics to help make conclusions about a population based on a sample of data.\n",
        "\n",
        "A confidence interval is typically expressed as a range of values along with a level of confidence. For example, a 95% confidence interval for the mean weight of a population might be expressed as \"the true mean weight is between 60 and 70 kilograms with 95% confidence.\"\n",
        "\n",
        "To calculate a confidence interval, you first need to determine the level of confidence you want to use. Common levels of confidence are 90%, 95%, or 99%. Once you have determined the level of confidence, you can then use the sample data and a formula to calculate the confidence interval.\n",
        "\n",
        "For example, let's say you want to calculate a 95% confidence interval for the mean height of a population of students. You take a random sample of 100 students from the population and measure their heights. The sample mean height is 170 centimeters, and the sample standard deviation is 5 centimeters.\n",
        "\n",
        "To calculate the confidence interval, you would use the following formula:\n",
        "\n",
        "Confidence interval = sample mean ± margin of error\n",
        "\n",
        "where:\n",
        "\n",
        "Margin of error = z * (standard deviation / square root of sample size)\n",
        "\n",
        "The value of z is determined by the level of confidence you want to use and can be found in a standard normal distribution table or calculated using software.\n",
        "\n",
        "For a 95% confidence interval, the value of z is approximately 1.96.\n",
        "\n",
        "Plugging in the values, we get:\n",
        "\n",
        "Margin of error = 1.96 * (5 / square root of 100) = 0.98\n",
        "\n",
        "So, the confidence interval for the mean height is:\n",
        "\n",
        "170 ± 0.98, or between 169.02 and 170.98 centimeters with 95% confidence.\n",
        "\n",
        "This means that we are 95% confident that the true mean height of the population falls between 169.02 and 170.98 centimeters, based on the sample data.\n"
      ],
      "metadata": {
        "id": "sxIOL1meGAOf"
      }
    },
    {
      "cell_type": "code",
      "source": [],
      "metadata": {
        "id": "CllOKVM9GFht"
      },
      "execution_count": null,
      "outputs": []
    },
    {
      "cell_type": "markdown",
      "source": [
        "ans 6:Sure, here's an example problem and solution using Bayes' Theorem:\n",
        "\n",
        "Problem:\n",
        "A factory produces two types of products, A and B. 60% of the products produced are type A, while 40% are type B. Out of all the products produced, 5% of type A and 10% of type B are defective. If a randomly chosen product is found to be defective, what is the probability that it is type B?\n",
        "\n",
        "Solution:\n",
        "Let A denote the event that the chosen product is type A, and B denote the event that the chosen product is type B. Let D denote the event that the chosen product is defective. We are given the following probabilities:\n",
        "\n",
        "P(A) = 0.6 (prior probability of selecting a type A product)\n",
        "P(B) = 0.4 (prior probability of selecting a type B product)\n",
        "P(D|A) = 0.05 (probability of a type A product being defective)\n",
        "P(D|B) = 0.10 (probability of a type B product being defective)\n",
        "\n",
        "We want to find P(B|D), the probability that the chosen product is type B given that it is defective. We can use Bayes' Theorem to calculate this:\n",
        "\n",
        "P(B|D) = P(D|B) * P(B) / P(D)\n",
        "\n",
        "where:\n",
        "\n",
        "P(D) = P(D|A) * P(A) + P(D|B) * P(B)\n",
        "= 0.05 * 0.6 + 0.10 * 0.4\n",
        "= 0.07\n",
        "\n",
        "Plugging in the values, we get:\n",
        "\n",
        "P(B|D) = 0.10 * 0.4 / 0.07\n",
        "= 0.57\n",
        "\n",
        "Therefore, the probability that the chosen product is type B given that it is defective is 0.57, or 57%. This means that if we randomly select a defective product, there is a 57% chance that it is type B.\n"
      ],
      "metadata": {
        "id": "kv0sI1a-GIzX"
      }
    },
    {
      "cell_type": "code",
      "source": [],
      "metadata": {
        "id": "SChByDnsGG9D"
      },
      "execution_count": null,
      "outputs": []
    },
    {
      "cell_type": "markdown",
      "source": [
        "ans 7:To calculate the 95% confidence interval for a sample of data with a mean of 50 and a standard deviation of 5, we need to use the formula:\n",
        "\n",
        "Confidence interval = sample mean ± (z * standard error)\n",
        "\n",
        "where the standard error is the standard deviation divided by the square root of the sample size, and z is the z-score corresponding to the desired level of confidence (in this case, 95%). The value of z can be found using a standard normal distribution table or calculator, and for a 95% confidence level, z is approximately 1.96.\n",
        "\n",
        "Plugging in the values, we get:\n",
        "\n",
        "Confidence interval = 50 ± (1.96 * (5 / √n))\n",
        "\n",
        "Since we don't know the sample size n, we can't calculate the exact confidence interval. However, we can still interpret the results based on what we know.\n",
        "\n",
        "A 95% confidence interval means that if we take many random samples from the same population and calculate the confidence interval for each sample, approximately 95% of these intervals will contain the true population mean. In other words, we can be 95% confident that the true population mean falls within the calculated interval.\n",
        "\n",
        "So, based on the information given, we can say that we are 95% confident that the true population mean falls within the interval:\n",
        "\n",
        "50 ± (1.96 * (5 / √n))\n",
        "\n",
        "where n is the sample size. The larger the sample size, the narrower the confidence interval will be, which means we will have more precision in our estimate of the population mean."
      ],
      "metadata": {
        "id": "WI30m_kxGPtK"
      }
    },
    {
      "cell_type": "markdown",
      "source": [
        "ans 8:The margin of error is the range of values above and below the point estimate (such as the sample mean) within which the true population parameter is expected to lie with a certain level of confidence. It is an important concept in statistics because it helps us quantify the level of uncertainty in our estimate of the population parameter.\n",
        "\n",
        "The margin of error is typically denoted by E and can be calculated using the following formula:\n",
        "\n",
        "Margin of error (E) = z * (standard deviation / sqrt(sample size))\n",
        "\n",
        "where z is the critical value from the standard normal distribution that corresponds to the desired level of confidence, the standard deviation is the population standard deviation (or the sample standard deviation, if it is being used as an estimate of the population standard deviation), and the sample size is the number of observations in the sample.\n",
        "\n",
        "As the sample size increases, the margin of error decreases. This is because a larger sample size provides more information and reduces the amount of sampling error, which is the error that arises from using a sample to estimate a population parameter. With a larger sample size, the standard deviation of the sampling distribution becomes smaller, which reduces the margin of error.\n",
        "\n",
        "For example, suppose we want to estimate the proportion of voters in a certain region who support a particular candidate, and we take a sample of 100 voters. The sample proportion is found to be 0.6, and we want to construct a 95% confidence interval. The margin of error for this interval can be calculated using the formula:\n",
        "\n",
        "E = 1.96 * sqrt((0.6 * 0.4) / 100) = 0.098\n",
        "\n",
        "This means that we can be 95% confident that the true population proportion falls within the interval (0.502, 0.698). If we were to take a larger sample of, say, 500 voters, the margin of error would decrease:\n",
        "\n",
        "E = 1.96 * sqrt((0.6 * 0.4) / 500) = 0.044\n",
        "\n",
        "This means that we could construct a 95% confidence interval with a margin of error of 0.044, which would be narrower and more precise than the interval based on the smaller sample size.\n",
        "\n",
        "In summary, a larger sample size results in a smaller margin of error, which increases the precision of our estimate of the population parameter.\n"
      ],
      "metadata": {
        "id": "3IZoLU2VGPwG"
      }
    },
    {
      "cell_type": "markdown",
      "source": [
        "ans 9:To calculate the z-score for a data point with a value of 75, a population mean of 70, and a population standard deviation of 5, we use the formula:\n",
        "\n",
        "z = (x - μ) / σ\n",
        "\n",
        "where x is the value of the data point, μ is the population mean, and σ is the population standard deviation.\n",
        "\n",
        "Plugging in the values, we get:\n",
        "\n",
        "z = (75 - 70) / 5 = 1\n",
        "\n",
        "This means that the data point of 75 is one standard deviation above the population mean of 70. The positive value of the z-score indicates that the data point is above the mean.\n",
        "\n",
        "The z-score is a standardized value that indicates how many standard deviations a data point is from the population mean. It is useful for comparing data points from different distributions, as well as for determining the probability of observing a certain value or range of values in a distribution.\n",
        "\n",
        "In this case, a z-score of 1 tells us that the data point of 75 is relatively close to the mean, since it is only one standard deviation away. If we know the distribution of the data is normal, we can use the standard normal distribution table or calculator to find the probability of observing a value as extreme or more extreme than 75. For example, if we want to find the probability of observing a value of 75 or greater, we can look up the area to the right of the z-score of 1, which is 0.1587. This means that there is a probability of 0.1587, or approximately 16%, of observing a value of 75 or greater in this distribution."
      ],
      "metadata": {
        "id": "D85g-q-rGGdu"
      }
    },
    {
      "cell_type": "code",
      "source": [],
      "metadata": {
        "id": "Gq8afeo3Gj1n"
      },
      "execution_count": null,
      "outputs": []
    },
    {
      "cell_type": "markdown",
      "source": [
        "ans 10:To conduct a hypothesis test to determine if the weight loss drug is significantly effective at a 95% confidence level using a t-test, we need to set up our null and alternative hypotheses. We will use a two-tailed test, since we are interested in whether the drug is significantly effective in either direction.\n",
        "\n",
        "Null hypothesis: The true population mean weight loss from the drug is equal to zero.\n",
        "Alternative hypothesis: The true population mean weight loss from the drug is not equal to zero.\n",
        "\n",
        "We will use a significance level of α = 0.05.\n",
        "\n",
        "Next, we calculate the t-statistic using the formula:\n",
        "\n",
        "t = (x̄ - μ) / (s / sqrt(n))\n",
        "\n",
        "where x̄ is the sample mean, μ is the hypothesized population mean (in this case, 0), s is the sample standard deviation, and n is the sample size.\n",
        "\n",
        "Plugging in the values, we get:\n",
        "\n",
        "t = (6 - 0) / (2.5 / sqrt(50)) = 13.42\n",
        "\n",
        "We can find the critical t-value for a two-tailed test with 49 degrees of freedom (df = n - 1) and a significance level of α = 0.05 using a t-table or calculator. For a two-tailed test, we divide α by 2 and look up the value that corresponds to a cumulative probability of 0.025 in each tail. With 49 degrees of freedom, the critical t-value is approximately ±2.01.\n",
        "\n",
        "Since our calculated t-value of 13.42 is greater than the critical t-value of 2.01, we reject the null hypothesis and conclude that the true population mean weight loss from the drug is significantly different from zero at a 95% confidence level. In other words, the weight loss drug is significantly effective in helping participants lose weight, based on the sample of 50 participants we studied."
      ],
      "metadata": {
        "id": "mvSrYy_iGnEY"
      }
    },
    {
      "cell_type": "code",
      "source": [],
      "metadata": {
        "id": "2dAvfdHlGuHR"
      },
      "execution_count": null,
      "outputs": []
    },
    {
      "cell_type": "markdown",
      "source": [
        "ans 11:To calculate the 95% confidence interval for the true proportion of people who are satisfied with their job, we can use the formula:\n",
        "\n",
        "CI = p ± z*(sqrt(p*(1-p)/n))\n",
        "\n",
        "where p is the sample proportion, z is the critical z-value for a 95% confidence level (which is approximately 1.96), and n is the sample size.\n",
        "\n",
        "Plugging in the values, we get:\n",
        "\n",
        "CI = 0.65 ± 1.96*(sqrt(0.65*(1-0.65)/500))\n",
        "\n",
        "Simplifying this expression, we get:\n",
        "\n",
        "CI = 0.65 ± 0.040\n",
        "\n",
        "Therefore, the 95% confidence interval for the true proportion of people who are satisfied with their job is:\n",
        "\n",
        "0.61 ≤ p ≤ 0.69\n",
        "\n",
        "Interpreting the results, we can say that if we were to conduct the same survey multiple times and calculate a confidence interval each time, we would expect that about 95% of those intervals would contain the true proportion of people who are satisfied with their job. We can also say with 95% confidence that the true proportion of people who are satisfied with their job falls between 0.61 and 0.69."
      ],
      "metadata": {
        "id": "YSu71AKlGvPg"
      }
    },
    {
      "cell_type": "code",
      "source": [],
      "metadata": {
        "id": "cVii7fpQG1IP"
      },
      "execution_count": null,
      "outputs": []
    },
    {
      "cell_type": "markdown",
      "source": [
        "ans 12:To conduct a hypothesis test to determine if the two teaching methods have a significant difference in student performance, we can use a two-sample t-test with a significance level of 0.01.\n",
        "\n",
        "The null hypothesis is that there is no significant difference in the mean scores between the two teaching methods, while the alternative hypothesis is that there is a significant difference.\n",
        "\n",
        "H0: µA = µB\n",
        "Ha: µA ≠ µB\n",
        "\n",
        "We can calculate the test statistic using the formula:\n",
        "\n",
        "t = (x̄A - x̄B) / (s_p * sqrt(1/nA + 1/nB))\n",
        "\n",
        "where x̄A and x̄B are the sample means, nA and nB are the sample sizes, s_p is the pooled standard deviation, calculated as:\n",
        "\n",
        "s_p = sqrt(((nA - 1) * sA^2 + (nB - 1) * sB^2) / (nA + nB - 2))\n",
        "\n",
        "sA and sB are the sample standard deviations.\n",
        "\n",
        "Plugging in the values, we get:\n",
        "\n",
        "t = (85 - 82) / (sqrt(((49 - 1) * 6^2 + (52 - 1) * 5^2) / (49 + 52 - 2)) * sqrt(1/49 + 1/52))\n",
        "\n",
        "Simplifying this expression, we get:\n",
        "\n",
        "t = 2.35\n",
        "\n",
        "The degrees of freedom for this test is:\n",
        "\n",
        "df = nA + nB - 2 = 49 + 52 - 2 = 99\n",
        "\n",
        "Using a t-distribution table or calculator with 99 degrees of freedom and a significance level of 0.01, we find that the critical values are -2.625 and 2.625.\n",
        "\n",
        "Since the calculated t-value (2.35) is greater than the critical value (2.625) or less than the negative critical value (-2.625), we reject the null hypothesis and conclude that there is a significant difference in the mean scores between the two teaching methods at the 0.01 level of significance.\n",
        "\n",
        "Therefore, we can conclude that the evidence suggests that one teaching method is more effective than the other in improving student performance."
      ],
      "metadata": {
        "id": "BCJCBi5wG3KZ"
      }
    },
    {
      "cell_type": "code",
      "source": [],
      "metadata": {
        "id": "7CL9CCUWHEZn"
      },
      "execution_count": null,
      "outputs": []
    },
    {
      "cell_type": "markdown",
      "source": [
        "ans 13:To calculate the 90% confidence interval for the true population mean, we can use the formula:\n",
        "\n",
        "CI = x̄ ± z* (σ / sqrt(n))\n",
        "\n",
        "where x̄ is the sample mean, σ is the population standard deviation, n is the sample size, and z is the critical value for the confidence level.\n",
        "\n",
        "Since the population standard deviation is known and the sample size is large enough (n ≥ 30), we can use the z-distribution to find the critical value. For a 90% confidence interval, the z-value is 1.645.\n",
        "\n",
        "Plugging in the values, we get:\n",
        "\n",
        "CI = 65 ± 1.645 * (8 / sqrt(50))\n",
        "\n",
        "Simplifying this expression, we get:\n",
        "\n",
        "CI = (62.78, 67.22)\n",
        "\n",
        "Therefore, we can be 90% confident that the true population mean falls between 62.78 and 67.22. This means that if we repeated the sampling process many times, about 90% of the resulting confidence intervals would contain the true population mean."
      ],
      "metadata": {
        "id": "hVsIt_OUHIa_"
      }
    },
    {
      "cell_type": "code",
      "source": [],
      "metadata": {
        "id": "b3pLEQWbHJ8k"
      },
      "execution_count": null,
      "outputs": []
    },
    {
      "cell_type": "markdown",
      "source": [
        "ans 14:To conduct a hypothesis test to determine if caffeine has a significant effect on reaction time at a 90% confidence level using a t-test, we need to set up our null and alternative hypotheses:\n",
        "\n",
        "Null hypothesis (H0): The mean reaction time of participants who consume caffeine is equal to the mean reaction time of participants who do not consume caffeine. μ = 0.25\n",
        "Alternative hypothesis (Ha): The mean reaction time of participants who consume caffeine is different from the mean reaction time of participants who do not consume caffeine. μ ≠ 0.25\n",
        "We will use a two-tailed t-test for independent samples, since we are comparing the means of two independent groups (participants who consume caffeine and participants who do not consume caffeine) and we do not know the population standard deviation.\n",
        "\n",
        "The test statistic can be calculated using the formula:\n",
        "\n",
        "t = (x̄ - μ) / (s / sqrt(n))\n",
        "\n",
        "where x̄ is the sample mean, μ is the hypothesized population mean under the null hypothesis, s is the sample standard deviation, and n is the sample size.\n",
        "\n",
        "Plugging in the values, we get:\n",
        "\n",
        "t = (0.25 - 0) / (0.05 / sqrt(30))\n",
        "\n",
        "t = 9.49\n",
        "\n",
        "Using a t-table with degrees of freedom (df) = n1 + n2 - 2 = 28, we find the critical values for a two-tailed test at a 90% confidence level to be ±1.701.\n",
        "\n",
        "Since our test statistic (9.49) is greater than the critical value (1.701), we reject the null hypothesis and conclude that the mean reaction time of participants who consume caffeine is significantly different from the mean reaction time of participants who do not consume caffeine at a 90% confidence level."
      ],
      "metadata": {
        "id": "q1kSSmOUHSNz"
      }
    },
    {
      "cell_type": "code",
      "source": [],
      "metadata": {
        "id": "P_NdZz_CHTlW"
      },
      "execution_count": null,
      "outputs": []
    }
  ]
}