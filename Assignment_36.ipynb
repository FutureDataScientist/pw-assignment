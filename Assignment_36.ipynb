{
  "nbformat": 4,
  "nbformat_minor": 0,
  "metadata": {
    "colab": {
      "provenance": []
    },
    "kernelspec": {
      "name": "python3",
      "display_name": "Python 3"
    },
    "language_info": {
      "name": "python"
    }
  },
  "cells": [
    {
      "cell_type": "code",
      "execution_count": 1,
      "metadata": {
        "id": "Hl0PEnKELbc1"
      },
      "outputs": [],
      "source": [
        "##Assignment 36"
      ]
    },
    {
      "cell_type": "code",
      "source": [
        "#ans 1:\n",
        "import scipy.stats as stats\n",
        "\n",
        "sample_mean = 50\n",
        "sample_std = 5\n",
        "n = 100   # assuming a sample size of 100\n",
        "\n",
        "# calculate the standard error of the mean\n",
        "std_error = sample_std / (n**0.5)\n",
        "\n",
        "# calculate the confidence interval using the t-distribution\n",
        "t_value = stats.t.ppf(0.975, n-1)\n",
        "lower_ci = sample_mean - t_value*std_error\n",
        "upper_ci = sample_mean + t_value*std_error\n",
        "\n",
        "print(\"The 95% confidence interval is ({:.2f}, {:.2f})\".format(lower_ci, upper_ci))\n"
      ],
      "metadata": {
        "colab": {
          "base_uri": "https://localhost:8080/"
        },
        "id": "MLvCuC5zLiha",
        "outputId": "90c93888-c0b8-4666-f730-1f28431bb657"
      },
      "execution_count": 2,
      "outputs": [
        {
          "output_type": "stream",
          "name": "stdout",
          "text": [
            "The 95% confidence interval is (49.01, 50.99)\n"
          ]
        }
      ]
    },
    {
      "cell_type": "code",
      "source": [
        "#ans 2:\n",
        "import numpy as np\n",
        "import scipy.stats as stats\n",
        "\n",
        "# observed counts of colors in the bag\n",
        "observed = np.array([10, 25, 15, 8, 12, 30])\n",
        "\n",
        "# expected counts based on the given distribution\n",
        "expected = np.array([0.2, 0.2, 0.2, 0.1, 0.1, 0.2]) * observed.sum()\n",
        "\n",
        "# calculate the chi-square statistic and p-value\n",
        "chi2_statistic, p_value = stats.chisquare(observed, expected)\n",
        "\n",
        "# print the results\n",
        "print(\"Chi-square statistic:\", chi2_statistic)\n",
        "print(\"p-value:\", p_value)\n",
        "\n",
        "if p_value < 0.05:\n",
        "    print(\"The distribution of colors in the bag does not match the expected distribution.\")\n",
        "else:\n",
        "    print(\"The distribution of colors in the bag matches the expected distribution.\")\n"
      ],
      "metadata": {
        "colab": {
          "base_uri": "https://localhost:8080/"
        },
        "id": "6Pg8tVyKLqX-",
        "outputId": "43171620-28b0-4c0b-e512-01681bcce38f"
      },
      "execution_count": 3,
      "outputs": [
        {
          "output_type": "stream",
          "name": "stdout",
          "text": [
            "Chi-square statistic: 13.3\n",
            "p-value: 0.02072391264437382\n",
            "The distribution of colors in the bag does not match the expected distribution.\n"
          ]
        }
      ]
    },
    {
      "cell_type": "code",
      "source": [
        "#ans 3:\n",
        "import numpy as np\n",
        "import scipy.stats as stats\n",
        "\n",
        "# create the contingency table\n",
        "observed = np.array([[20, 15], [10, 25], [15, 20]])\n",
        "\n",
        "# calculate the expected frequencies assuming the null hypothesis of independence\n",
        "row_totals = observed.sum(axis=1)\n",
        "col_totals = observed.sum(axis=0)\n",
        "total = observed.sum()\n",
        "expected = np.outer(row_totals, col_totals) / total\n",
        "\n",
        "# calculate the chi-square statistic and p-value\n",
        "chi2_statistic, p_value, dof, expected = stats.chi2_contingency(observed)\n",
        "\n",
        "# print the results\n",
        "print(\"Chi-square statistic:\", chi2_statistic)\n",
        "print(\"p-value:\", p_value)\n"
      ],
      "metadata": {
        "colab": {
          "base_uri": "https://localhost:8080/"
        },
        "id": "9yjMHuGQLwnh",
        "outputId": "617ba8db-6126-4009-9526-6524cf69fda0"
      },
      "execution_count": 4,
      "outputs": [
        {
          "output_type": "stream",
          "name": "stdout",
          "text": [
            "Chi-square statistic: 5.833333333333334\n",
            "p-value: 0.05411376622282158\n"
          ]
        }
      ]
    },
    {
      "cell_type": "code",
      "source": [
        "#ans 4:\n",
        "import numpy as np\n",
        "import statsmodels.stats.proportion as proportion\n",
        "\n",
        "# sample size and number of smokers\n",
        "n = 500\n",
        "num_smokers = 60\n",
        "\n",
        "# calculate the sample proportion\n",
        "sample_prop = num_smokers / n\n",
        "\n",
        "# calculate the confidence interval using the normal approximation\n",
        "conf_int = proportion.proportion_confint(num_smokers, n, alpha=0.05, method='normal')\n",
        "\n",
        "# print the results\n",
        "print(\"The 95% confidence interval for the true proportion of smokers is\", conf_int)\n"
      ],
      "metadata": {
        "colab": {
          "base_uri": "https://localhost:8080/"
        },
        "id": "0lbe5ZUILy8k",
        "outputId": "9f9d3551-3dd1-4a0d-d88f-12bf52290ebf"
      },
      "execution_count": 5,
      "outputs": [
        {
          "output_type": "stream",
          "name": "stdout",
          "text": [
            "The 95% confidence interval for the true proportion of smokers is (0.09151638887130706, 0.14848361112869293)\n"
          ]
        }
      ]
    },
    {
      "cell_type": "code",
      "source": [],
      "metadata": {
        "id": "rDrHz9Q-L434"
      },
      "execution_count": null,
      "outputs": []
    },
    {
      "cell_type": "code",
      "source": [
        "#ans 5:\n",
        "import numpy as np\n",
        "import scipy.stats as stats\n",
        "\n",
        "# sample size, sample mean, and sample standard deviation\n",
        "n = 100\n",
        "sample_mean = 75\n",
        "sample_std = 12\n",
        "\n",
        "# calculate the standard error of the mean\n",
        "sem = sample_std / np.sqrt(n)\n",
        "\n",
        "# calculate the confidence interval using the t-distribution\n",
        "conf_int = stats.t.interval(alpha=0.9, df=n-1, loc=sample_mean, scale=sem)\n",
        "\n",
        "# print the results\n",
        "print(\"The 90% confidence interval is\", conf_int)\n",
        "\n"
      ],
      "metadata": {
        "colab": {
          "base_uri": "https://localhost:8080/"
        },
        "id": "g_VXZKYOMFhK",
        "outputId": "a48ef915-1919-4615-9e11-4014fed589e2"
      },
      "execution_count": 6,
      "outputs": [
        {
          "output_type": "stream",
          "name": "stdout",
          "text": [
            "The 90% confidence interval is (73.00753061280433, 76.99246938719567)\n"
          ]
        },
        {
          "output_type": "stream",
          "name": "stderr",
          "text": [
            "<ipython-input-6-1a824a3954ab>:14: DeprecationWarning: Use of keyword argument 'alpha' for method 'interval' is deprecated and wil be removed in SciPy 1.11.0. Use first positional argument or keyword argument 'confidence' instead.\n",
            "  conf_int = stats.t.interval(alpha=0.9, df=n-1, loc=sample_mean, scale=sem)\n"
          ]
        }
      ]
    },
    {
      "cell_type": "code",
      "source": [
        "#ans 6:\n",
        "import numpy as np\n",
        "import matplotlib.pyplot as plt\n",
        "import scipy.stats as stats\n",
        "\n",
        "# degrees of freedom\n",
        "df = 10\n",
        "\n",
        "# create x-axis values\n",
        "x = np.linspace(0, 30, 1000)\n",
        "\n",
        "# calculate the chi-square distribution values\n",
        "chi2_dist = stats.chi2(df)\n",
        "y = chi2_dist.pdf(x)\n",
        "\n",
        "# create the plot\n",
        "fig, ax = plt.subplots(figsize=(8, 6))\n",
        "ax.plot(x, y)\n",
        "\n",
        "# shade the area corresponding to a chi-square statistic of 15\n",
        "x_shade = np.linspace(15, 30, 1000)\n",
        "y_shade = chi2_dist.pdf(x_shade)\n",
        "ax.fill_between(x_shade, y_shade, color='red', alpha=0.5)\n",
        "\n",
        "# add labels and title\n",
        "ax.set_xlabel('Chi-square statistic')\n",
        "ax.set_ylabel('Probability density')\n",
        "ax.set_title('Chi-square distribution with 10 degrees of freedom')\n",
        "\n",
        "# display the plot\n",
        "plt.show()\n"
      ],
      "metadata": {
        "colab": {
          "base_uri": "https://localhost:8080/",
          "height": 564
        },
        "id": "f5oRtE5dMMF6",
        "outputId": "67dcc67f-0720-40db-814e-cc91639ef350"
      },
      "execution_count": 7,
      "outputs": [
        {
          "output_type": "display_data",
          "data": {
            "text/plain": [
              "<Figure size 800x600 with 1 Axes>"
            ],
            "image/png": "[encoded data removed]"
          },
          "metadata": {}
        }
      ]
    },
    {
      "cell_type": "code",
      "source": [
        "#ans 7:\n",
        "import numpy as np\n",
        "import scipy.stats as stats\n",
        "\n",
        "# sample size and number of successes (people who prefer Coke)\n",
        "n = 1000\n",
        "successes = 520\n",
        "\n",
        "# calculate the sample proportion and standard error of the proportion\n",
        "sample_prop = successes / n\n",
        "std_error = np.sqrt((sample_prop * (1 - sample_prop)) / n)\n",
        "\n",
        "# calculate the confidence interval using the z-distribution\n",
        "conf_int = stats.norm.interval(alpha=0.99, loc=sample_prop, scale=std_error)\n",
        "\n",
        "# print the results\n",
        "print(\"The 99% confidence interval is\", conf_int)\n"
      ],
      "metadata": {
        "colab": {
          "base_uri": "https://localhost:8080/"
        },
        "id": "kRvmM4ktMOl2",
        "outputId": "778e1f17-84c1-497c-a821-28fcfb9b2464"
      },
      "execution_count": 8,
      "outputs": [
        {
          "output_type": "stream",
          "name": "stdout",
          "text": [
            "The 99% confidence interval is (0.4793051576779699, 0.5606948423220302)\n"
          ]
        },
        {
          "output_type": "stream",
          "name": "stderr",
          "text": [
            "<ipython-input-8-f5af21c3aa33>:14: DeprecationWarning: Use of keyword argument 'alpha' for method 'interval' is deprecated and wil be removed in SciPy 1.11.0. Use first positional argument or keyword argument 'confidence' instead.\n",
            "  conf_int = stats.norm.interval(alpha=0.99, loc=sample_prop, scale=std_error)\n"
          ]
        }
      ]
    },
    {
      "cell_type": "code",
      "source": [
        "#ans 8:\n",
        "import numpy as np\n",
        "import scipy.stats as stats\n",
        "\n",
        "# define the expected frequencies for a fair coin\n",
        "expected_freq = np.array([0.5, 0.5])\n",
        "\n",
        "# calculate the expected frequencies for 100 flips\n",
        "expected_freq *= 100\n",
        "\n",
        "# define the observed frequencies\n",
        "observed_freq = np.array([55, 45])\n",
        "\n",
        "# calculate the chi-square statistic and p-value\n",
        "chi2_stat, p_value = stats.chisquare(observed_freq, expected_freq)\n",
        "\n",
        "# print the results\n",
        "print(\"Chi-square statistic =\", chi2_stat)\n",
        "print(\"p-value =\", p_value)\n",
        "\n",
        "# compare the p-value to the significance level\n",
        "alpha = 0.05\n",
        "if p_value < alpha:\n",
        "    print(\"The p-value is less than the significance level, reject the null hypothesis.\")\n",
        "else:\n",
        "    print(\"The p-value is greater than the significance level, fail to reject the null hypothesis.\")\n"
      ],
      "metadata": {
        "colab": {
          "base_uri": "https://localhost:8080/"
        },
        "id": "dm5_qlOMMiUP",
        "outputId": "b5534ef2-cf7d-49cf-97e0-aa9ca81df2b7"
      },
      "execution_count": 9,
      "outputs": [
        {
          "output_type": "stream",
          "name": "stdout",
          "text": [
            "Chi-square statistic = 1.0\n",
            "p-value = 0.31731050786291115\n",
            "The p-value is greater than the significance level, fail to reject the null hypothesis.\n"
          ]
        }
      ]
    },
    {
      "cell_type": "code",
      "source": [
        "#ans9:\n",
        "import numpy as np\n",
        "import scipy.stats as stats\n",
        "\n",
        "# create the contingency table\n",
        "observed = np.array([[60, 140], [30, 170]])\n",
        "\n",
        "# calculate the chi-square statistic, p-value, and degrees of freedom\n",
        "chi2_stat, p_value, dof, expected = stats.chi2_contingency(observed)\n",
        "\n",
        "# print the results\n",
        "print(\"Chi-square statistic =\", chi2_stat)\n",
        "print(\"p-value =\", p_value)\n",
        "print(\"Degrees of freedom =\", dof)\n",
        "print(\"Expected frequencies =\", expected)\n",
        "\n",
        "# compare the p-value to the significance level\n",
        "alpha = 0.05\n",
        "if p_value < alpha:\n",
        "    print(\"The p-value is less than the significance level, reject the null hypothesis.\")\n",
        "else:\n",
        "    print(\"The p-value is greater than the significance level, fail to reject the null hypothesis.\")\n"
      ],
      "metadata": {
        "colab": {
          "base_uri": "https://localhost:8080/"
        },
        "id": "WuINAKC3MhLO",
        "outputId": "f3e5269d-edd5-44d0-f55b-5822e1f54bec"
      },
      "execution_count": 10,
      "outputs": [
        {
          "output_type": "stream",
          "name": "stdout",
          "text": [
            "Chi-square statistic = 12.057347670250895\n",
            "p-value = 0.0005158863863703744\n",
            "Degrees of freedom = 1\n",
            "Expected frequencies = [[ 45. 155.]\n",
            " [ 45. 155.]]\n",
            "The p-value is less than the significance level, reject the null hypothesis.\n"
          ]
        }
      ]
    },
    {
      "cell_type": "code",
      "source": [
        "#ans 10:\n",
        "import numpy as np\n",
        "import scipy.stats as stats\n",
        "\n",
        "# create the contingency table\n",
        "observed = np.array([[200, 150, 150], [225, 175, 100]])\n",
        "\n",
        "# calculate the chi-square statistic, p-value, and degrees of freedom\n",
        "chi2_stat, p_value, dof, expected = stats.chi2_contingency(observed)\n",
        "\n",
        "# print the results\n",
        "print(\"Chi-square statistic =\", chi2_stat)\n",
        "print(\"p-value =\", p_value)\n",
        "print(\"Degrees of freedom =\", dof)\n",
        "print(\"Expected frequencies =\", expected)\n",
        "\n",
        "# compare the p-value to the significance level\n",
        "alpha = 0.01\n",
        "if p_value < alpha:\n",
        "    print(\"The p-value is less than the significance level, reject the null hypothesis.\")\n",
        "else:\n",
        "    print(\"The p-value is greater than the significance level, fail to reject the null hypothesis.\")\n"
      ],
      "metadata": {
        "colab": {
          "base_uri": "https://localhost:8080/"
        },
        "id": "UcT8d-vkMuE7",
        "outputId": "b8b9bbea-8563-4cce-f5d0-3e6fc62cdcf7"
      },
      "execution_count": 11,
      "outputs": [
        {
          "output_type": "stream",
          "name": "stdout",
          "text": [
            "Chi-square statistic = 13.393665158371041\n",
            "p-value = 0.0012348168997745918\n",
            "Degrees of freedom = 2\n",
            "Expected frequencies = [[212.5 162.5 125. ]\n",
            " [212.5 162.5 125. ]]\n",
            "The p-value is less than the significance level, reject the null hypothesis.\n"
          ]
        }
      ]
    },
    {
      "cell_type": "code",
      "source": [
        "#ans 11:\n",
        "import scipy.stats as stats\n",
        "\n",
        "sample_mean = 72\n",
        "sample_std = 10\n",
        "n = 30\n",
        "null_mean = 70\n",
        "\n",
        "t_statistic = (sample_mean - null_mean) / (sample_std / (n**0.5))\n",
        "p_value = 2 * stats.t.cdf(-abs(t_statistic), df=n-1)\n",
        "\n",
        "print(\"t-statistic:\", t_statistic)\n",
        "print(\"p-value:\", p_value)\n"
      ],
      "metadata": {
        "colab": {
          "base_uri": "https://localhost:8080/"
        },
        "id": "UiI1Pi-BMzYi",
        "outputId": "e0ecb906-f2d2-467f-8615-c9003d1e9f57"
      },
      "execution_count": 12,
      "outputs": [
        {
          "output_type": "stream",
          "name": "stdout",
          "text": [
            "t-statistic: 1.0954451150103321\n",
            "p-value: 0.28233623728606977\n"
          ]
        }
      ]
    },
    {
      "cell_type": "code",
      "source": [],
      "metadata": {
        "id": "g7jidKJRM4Lj"
      },
      "execution_count": null,
      "outputs": []
    }
  ]
}