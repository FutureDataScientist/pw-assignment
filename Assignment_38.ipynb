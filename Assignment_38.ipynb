{
  "nbformat": 4,
  "nbformat_minor": 0,
  "metadata": {
    "colab": {
      "provenance": []
    },
    "kernelspec": {
      "name": "python3",
      "display_name": "Python 3"
    },
    "language_info": {
      "name": "python"
    }
  },
  "cells": [
    {
      "cell_type": "code",
      "execution_count": 1,
      "metadata": {
        "id": "29rFgAvEiJZp"
      },
      "outputs": [],
      "source": [
        "##Assignment 38"
      ]
    },
    {
      "cell_type": "code",
      "source": [
        "#ans 1:\n",
        "import numpy as np\n",
        "from scipy.stats import f\n",
        "\n",
        "def f_test(x, y):\n",
        "    \"\"\"\n",
        "    Calculate the F-value and corresponding p-value for a variance ratio test\n",
        "    between two arrays of data.\n",
        "\n",
        "    Parameters:\n",
        "        x (array-like): The first array of data.\n",
        "        y (array-like): The second array of data.\n",
        "\n",
        "    Returns:\n",
        "        f_value (float): The F-value for the variance ratio test.\n",
        "        p_value (float): The corresponding p-value for the test.\n",
        "    \"\"\"\n",
        "    x_var = np.var(x, ddof=1)  # sample variance of x\n",
        "    y_var = np.var(y, ddof=1)  # sample variance of y\n",
        "\n",
        "    # Ensure that x_var is greater than y_var\n",
        "    if y_var > x_var:\n",
        "        x_var, y_var = y_var, x_var\n",
        "        x, y = y, x\n",
        "\n",
        "    # Calculate F-value and p-value\n",
        "    f_value = x_var / y_var\n",
        "    df1 = len(x) - 1\n",
        "    df2 = len(y) - 1\n",
        "    p_value = f.sf(f_value, df1, df2)\n",
        "\n",
        "    return f_value, p_value\n"
      ],
      "metadata": {
        "id": "EedByx8uiP4B"
      },
      "execution_count": 2,
      "outputs": []
    },
    {
      "cell_type": "code",
      "source": [
        "#ans 2:\n",
        "from scipy.stats import f\n",
        "\n",
        "def critical_f_value(alpha, df1, df2):\n",
        "    \"\"\"\n",
        "    Calculate the critical F-value for a two-tailed test with a given significance level\n",
        "    and degrees of freedom for the numerator and denominator of an F-distribution.\n",
        "\n",
        "    Parameters:\n",
        "        alpha (float): The significance level.\n",
        "        df1 (int): The degrees of freedom for the numerator.\n",
        "        df2 (int): The degrees of freedom for the denominator.\n",
        "\n",
        "    Returns:\n",
        "        critical_f (float): The critical F-value.\n",
        "    \"\"\"\n",
        "    # Calculate the F-value for the given alpha and degrees of freedom\n",
        "    critical_f = f.ppf(1 - alpha / 2, df1, df2)\n",
        "\n",
        "    return critical_f\n"
      ],
      "metadata": {
        "id": "f7l23SEziZ8q"
      },
      "execution_count": 3,
      "outputs": []
    },
    {
      "cell_type": "code",
      "source": [
        "#ans 3:\n",
        "import numpy as np\n",
        "from scipy.stats import f\n",
        "\n",
        "# Set random seed for reproducibility\n",
        "np.random.seed(1234)\n",
        "\n",
        "# Generate random samples from two normal distributions with known variances\n",
        "mu1, mu2 = 0, 0\n",
        "sigma1, sigma2 = 2, 2\n",
        "n1, n2 = 30, 30\n",
        "x = np.random.normal(mu1, sigma1, n1)\n",
        "y = np.random.normal(mu2, sigma2, n2)\n",
        "\n",
        "# Calculate F-value and p-value for variance ratio test\n",
        "f_value, p_value = f_test(x, y)\n",
        "df1, df2 = len(x) - 1, len(y) - 1\n",
        "\n",
        "# Print results\n",
        "print(\"F-value:\", f_value)\n",
        "print(\"Degrees of freedom:\", df1, \",\", df2)\n",
        "print(\"p-value:\", p_value)\n"
      ],
      "metadata": {
        "colab": {
          "base_uri": "https://localhost:8080/"
        },
        "id": "jlAJwqy7ir_S",
        "outputId": "71c5fb08-7ac6-4272-ea48-bef4206eaa27"
      },
      "execution_count": 4,
      "outputs": [
        {
          "output_type": "stream",
          "name": "stdout",
          "text": [
            "F-value: 1.3079599155054016\n",
            "Degrees of freedom: 29 , 29\n",
            "p-value: 0.23711678324237878\n"
          ]
        }
      ]
    },
    {
      "cell_type": "code",
      "source": [
        "#ans 4;\n",
        "import numpy as np\n",
        "from scipy.stats import f\n",
        "\n",
        "# Set known variances\n",
        "sigma1 = 10\n",
        "sigma2 = 15\n",
        "\n",
        "# Set sample sizes\n",
        "n1 = 12\n",
        "n2 = 12\n",
        "\n",
        "# Generate random samples from two normal distributions with known variances\n",
        "mu1, mu2 = 0, 0\n",
        "x = np.random.normal(mu1, np.sqrt(sigma1), n1)\n",
        "y = np.random.normal(mu2, np.sqrt(sigma2), n2)\n",
        "\n",
        "# Calculate F-value and p-value for variance ratio test\n",
        "f_value = np.var(x, ddof=1) / np.var(y, ddof=1)\n",
        "df1, df2 = n1 - 1, n2 - 1\n",
        "p_value = 2 * min(f.cdf(f_value, df1, df2), 1 - f.cdf(f_value, df1, df2))\n",
        "\n",
        "# Determine if variances are significantly different\n",
        "alpha = 0.05\n",
        "if p_value <= alpha:\n",
        "    print(\"Reject null hypothesis; variances are significantly different.\")\n",
        "else:\n",
        "    print(\"Fail to reject null hypothesis; variances are not significantly different.\")\n",
        "\n",
        "# Print results\n",
        "print(\"F-value:\", f_value)\n",
        "print(\"Degrees of freedom:\", df1, \",\", df2)\n",
        "print(\"p-value:\", p_value)\n"
      ],
      "metadata": {
        "colab": {
          "base_uri": "https://localhost:8080/"
        },
        "id": "PHriLcyGixun",
        "outputId": "5e20111b-78cd-4c35-a988-a047026d468f"
      },
      "execution_count": 5,
      "outputs": [
        {
          "output_type": "stream",
          "name": "stdout",
          "text": [
            "Fail to reject null hypothesis; variances are not significantly different.\n",
            "F-value: 0.442274900674014\n",
            "Degrees of freedom: 11 , 11\n",
            "p-value: 0.1918023847116093\n"
          ]
        }
      ]
    },
    {
      "cell_type": "code",
      "source": [
        "#ans 5:\n",
        "import numpy as np\n",
        "from scipy.stats import f\n",
        "\n",
        "# Set claimed variance\n",
        "sigma_squared = 0.005\n",
        "\n",
        "# Set sample size\n",
        "n = 25\n",
        "\n",
        "# Set sample variance\n",
        "sample_variance = 0.006\n",
        "\n",
        "# Calculate F-value and p-value for variance ratio test\n",
        "f_value = sample_variance / sigma_squared\n",
        "df1, df2 = n - 1, 1\n",
        "p_value = 2 * min(f.cdf(f_value, df1, df2), 1 - f.cdf(f_value, df1, df2))\n",
        "\n",
        "# Determine if claim is justified\n",
        "alpha = 0.01\n",
        "if p_value <= alpha:\n",
        "    print(\"Reject null hypothesis; claim is not justified.\")\n",
        "else:\n",
        "    print(\"Fail to reject null hypothesis; claim is justified.\")\n",
        "\n",
        "# Print results\n",
        "print(\"F-value:\", f_value)\n",
        "print(\"Degrees of freedom:\", df1, \",\", df2)\n",
        "print(\"p-value:\", p_value)\n"
      ],
      "metadata": {
        "colab": {
          "base_uri": "https://localhost:8080/"
        },
        "id": "0EOk6ZrKi93u",
        "outputId": "364f1770-44a1-47e0-c29b-b6da437a7bd5"
      },
      "execution_count": 6,
      "outputs": [
        {
          "output_type": "stream",
          "name": "stdout",
          "text": [
            "Fail to reject null hypothesis; claim is justified.\n",
            "F-value: 1.2\n",
            "Degrees of freedom: 24 , 1\n",
            "p-value: 0.7407800760081285\n"
          ]
        }
      ]
    },
    {
      "cell_type": "code",
      "source": [
        "#ans 6:\n",
        "def f_distribution_mean_and_variance(df1, df2):\n",
        "    \"\"\"\n",
        "    Calculates the mean and variance of an F-distribution.\n",
        "\n",
        "    Parameters:\n",
        "    - df1 (int): degrees of freedom for the numerator\n",
        "    - df2 (int): degrees of freedom for the denominator\n",
        "\n",
        "    Returns:\n",
        "    - tuple: (mean, variance)\n",
        "    \"\"\"\n",
        "    # Calculate mean and variance\n",
        "    if df2 <= 2:\n",
        "        # If df2 is small, the distribution is undefined for F < 1/df2.\n",
        "        # We use a truncated distribution with the minimum value set to 1/df2.\n",
        "        mean = df2 / (df2 - 2)\n",
        "        variance = (2 * df2 ** 2 * (df1 + df2 - 2)) / (df1 * (df2 - 2) ** 2 * (df2 - 4))\n",
        "    else:\n",
        "        mean = df2 / (df2 - 2)\n",
        "        variance = (2 * df2 ** 2 * (df1 + df2 - 2)) / (df1 * (df2 - 2) ** 2 * (df2 - 4)) * (df2 - 4) / (df2 - 6)\n",
        "\n",
        "    # Return mean and variance as a tuple\n",
        "    return mean, variance\n"
      ],
      "metadata": {
        "id": "rckC2rEhjGhf"
      },
      "execution_count": 7,
      "outputs": []
    },
    {
      "cell_type": "markdown",
      "source": [
        "ans 7:\n",
        "Set up the null and alternative hypotheses:\n",
        "\n",
        "Null hypothesis: The variances of the two populations are equal.\n",
        "Alternative hypothesis: The variances of the two populations are not equal.\n",
        "Determine the significance level and degrees of freedom for the F-distribution:\n",
        "\n",
        "Significance level: 10%\n",
        "Degrees of freedom for numerator: n1 - 1 = 10 - 1 = 9\n",
        "Degrees of freedom for denominator: n2 - 1 = 15 - 1 = 14\n",
        "Calculate the F-statistic:\n",
        "\n",
        "F = s1^2 / s2^2, where s1^2 and s2^2 are the sample variances of the two populations.\n",
        "\n",
        "F = 25 / 20 = 1.25\n",
        "\n",
        "Calculate the critical F-value using the significance level and degrees of freedom:\n",
        "\n",
        "Using a calculator or F-distribution table, we find that the critical F-value for a two-tailed test with 9 and 14 degrees of freedom and a 10% significance level is approximately 2.49.\n",
        "Compare the F-statistic to the critical F-value:\n",
        "\n",
        "Since 1.25 < 2.49, we fail to reject the null hypothesis that the variances of the two populations are equal.\n",
        "Interpret the results:\n",
        "\n",
        "At a 10% significance level, we do not have sufficient evidence to conclude that the variances of the two populations are significantly different."
      ],
      "metadata": {
        "id": "Ea68u6QzjVHS"
      }
    },
    {
      "cell_type": "code",
      "source": [],
      "metadata": {
        "id": "6meKtrSbjOjh"
      },
      "execution_count": null,
      "outputs": []
    },
    {
      "cell_type": "markdown",
      "source": [
        "ans 8:\n",
        "Set up the null and alternative hypotheses:\n",
        "\n",
        "Null hypothesis: The variances of the waiting times at the two restaurants are equal.\n",
        "Alternative hypothesis: The variances of the waiting times at the two restaurants are not equal.\n",
        "Determine the significance level and degrees of freedom for the F-distribution:\n",
        "\n",
        "Significance level: 5%\n",
        "Degrees of freedom for numerator: n1 - 1 = 7 - 1 = 6\n",
        "Degrees of freedom for denominator: n2 - 1 = 6 - 1 = 5\n",
        "Calculate the sample variances:\n",
        "\n",
        "s1^2 = ((24-24.14)^2 + (25-24.14)^2 + (28-24.14)^2 + (23-24.14)^2 + (22-24.14)^2 + (20-24.14)^2 + (27-24.14)^2) / 6 = 7.476\n",
        "s2^2 = ((31-32.83)^2 + (33-32.83)^2 + (35-32.83)^2 + (30-32.83)^2 + (32-32.83)^2 + (36-32.83)^2) / 5 = 6.305\n",
        "Calculate the F-statistic:\n",
        "\n",
        "F = s1^2 / s2^2\n",
        "\n",
        "F = 7.476 / 6.305 = 1.185\n",
        "\n",
        "Calculate the critical F-value using the significance level and degrees of freedom:\n",
        "\n",
        "Using a calculator or F-distribution table, we find that the critical F-value for a two-tailed test with 6 and 5 degrees of freedom and a 5% significance level is approximately 4.39.\n",
        "Compare the F-statistic to the critical F-value:\n",
        "\n",
        "Since 1.185 < 4.39, we fail to reject the null hypothesis that the variances of the waiting times at the two restaurants are equal.\n",
        "Interpret the results:\n",
        "\n",
        "At a 5% significance level, we do not have sufficient evidence to conclude that the variances of the waiting times at the two restaurants are significantly different."
      ],
      "metadata": {
        "id": "NafPfJNOjj88"
      }
    },
    {
      "cell_type": "code",
      "source": [],
      "metadata": {
        "id": "HMHUkzgxjmBs"
      },
      "execution_count": null,
      "outputs": []
    },
    {
      "cell_type": "markdown",
      "source": [
        "ans 9:Set up the null and alternative hypotheses:\n",
        "\n",
        "Null hypothesis: The variances of the test scores of the two groups of students are equal.\n",
        "Alternative hypothesis: The variances of the test scores of the two groups of students are not equal.\n",
        "Determine the significance level and degrees of freedom for the F-distribution:\n",
        "\n",
        "Significance level: 1%\n",
        "Degrees of freedom for numerator: n1 - 1 = 6 - 1 = 5\n",
        "Degrees of freedom for denominator: n2 - 1 = 6 - 1 = 5\n",
        "Calculate the sample variances:\n",
        "\n",
        "s1^2 = ((80-87)^2 + (85-87)^2 + (90-87)^2 + (92-87)^2 + (87-87)^2 + (83-87)^2) / 5 = 18.8\n",
        "s2^2 = ((75-80)^2 + (78-80)^2 + (82-80)^2 + (79-80)^2 + (81-80)^2 + (84-80)^2) / 5 = 8.8\n",
        "Calculate the F-statistic:\n",
        "\n",
        "F = s1^2 / s2^2\n",
        "\n",
        "F = 18.8 / 8.8 = 2.136\n",
        "\n",
        "Calculate the critical F-value using the significance level and degrees of freedom:\n",
        "\n",
        "Using a calculator or F-distribution table, we find that the critical F-value for a two-tailed test with 5 and 5 degrees of freedom and a 1% significance level is approximately 7.71.\n",
        "Compare the F-statistic to the critical F-value:\n",
        "\n",
        "Since 2.136 < 7.71, we fail to reject the null hypothesis that the variances of the test scores of the two groups of students are equal.\n",
        "Interpret the results:\n",
        "\n",
        "At a 1% significance level, we do not have sufficient evidence to conclude that the variances of the test scores of the two groups of students are significantly different."
      ],
      "metadata": {
        "id": "UF1XkQPvjw3o"
      }
    },
    {
      "cell_type": "code",
      "source": [],
      "metadata": {
        "id": "Yd9RD4k9jyq-"
      },
      "execution_count": null,
      "outputs": []
    }
  ]
}