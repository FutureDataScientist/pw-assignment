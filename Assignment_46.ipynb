{
  "nbformat": 4,
  "nbformat_minor": 0,
  "metadata": {
    "colab": {
      "provenance": []
    },
    "kernelspec": {
      "name": "python3",
      "display_name": "Python 3"
    },
    "language_info": {
      "name": "python"
    }
  },
  "cells": [
    {
      "cell_type": "code",
      "execution_count": 1,
      "metadata": {
        "id": "funts6XEC3du"
      },
      "outputs": [],
      "source": [
        "#assignment 46"
      ]
    },
    {
      "cell_type": "code",
      "source": [],
      "metadata": {
        "id": "aevqz_yBC89W"
      },
      "execution_count": null,
      "outputs": []
    },
    {
      "cell_type": "markdown",
      "source": [
        "ans 1:To calculate the Pearson correlation coefficient, you would need to first determine the data for the amount of time students spend studying for an exam and their final exam scores. Once you have the data, you can use a statistical software program or a calculator to calculate the Pearson correlation coefficient.\n",
        "\n",
        "The Pearson correlation coefficient, also known as the Pearson product-moment correlation coefficient, is a measure of the linear relationship between two variables. It ranges from -1 to 1, where a value of -1 indicates a perfect negative linear relationship, a value of 1 indicates a perfect positive linear relationship, and a value of 0 indicates no linear relationship.\n",
        "\n",
        "Interpreting the Pearson correlation coefficient between the amount of time students spend studying for an exam and their final exam scores would depend on the value obtained. If the Pearson correlation coefficient is positive and close to 1, it would indicate a strong positive linear relationship, suggesting that as the amount of time spent studying increases, the final exam scores also increase. If the Pearson correlation coefficient is negative and close to -1, it would indicate a strong negative linear relationship, suggesting that as the amount of time spent studying increases, the final exam scores decrease. If the Pearson correlation coefficient is close to 0, it would indicate no linear relationship, suggesting that there is no relationship between the amount of time spent studying and the final exam scores."
      ],
      "metadata": {
        "id": "i38GDJkqC9d8"
      }
    },
    {
      "cell_type": "code",
      "source": [],
      "metadata": {
        "id": "_Ihhx4kLDDuJ"
      },
      "execution_count": null,
      "outputs": []
    },
    {
      "cell_type": "markdown",
      "source": [
        "ans 2:To calculate the Spearman's rank correlation, you would first need to rank the data for the amount of sleep individuals get each night and their overall job satisfaction level on a scale of 1 to 10. Once you have the ranked data, you can use a statistical software program or a calculator to calculate the Spearman's rank correlation.\n",
        "\n",
        "The Spearman's rank correlation, also known as Spearman's rho, is a measure of the monotonic relationship between two variables. It ranges from -1 to 1, where a value of -1 indicates a perfect negative monotonic relationship, a value of 1 indicates a perfect positive monotonic relationship, and a value of 0 indicates no monotonic relationship.\n",
        "\n",
        "Interpreting the Spearman's rank correlation between the amount of sleep individuals get each night and their overall job satisfaction level would depend on the value obtained. If the Spearman's rank correlation is positive and close to 1, it would indicate a strong positive monotonic relationship, suggesting that as the amount of sleep individuals get each night increases, their overall job satisfaction level also increases. If the Spearman's rank correlation is negative and close to -1, it would indicate a strong negative monotonic relationship, suggesting that as the amount of sleep individuals get each night decreases, their overall job satisfaction level decreases. If the Spearman's rank correlation is close to 0, it would indicate no monotonic relationship, suggesting that there is no relationship between the amount of sleep individuals get each night and their overall job satisfaction level."
      ],
      "metadata": {
        "id": "YSBE-bVRDFg-"
      }
    },
    {
      "cell_type": "code",
      "source": [],
      "metadata": {
        "id": "7oOuvE2HDJ_m"
      },
      "execution_count": null,
      "outputs": []
    },
    {
      "cell_type": "markdown",
      "source": [
        "ans 3: To calculate the Pearson correlation coefficient and the Spearman's rank correlation, you would need to have the data for the number of hours of exercise per week and body mass index (BMI) for 50 participants. Once you have the data, you can use a statistical software program or a calculator to calculate both correlation coefficients.\n",
        "\n",
        "The Pearson correlation coefficient measures the linear relationship between two variables, while the Spearman's rank correlation measures the monotonic relationship between two variables. If the relationship between the two variables is linear, then the Pearson correlation coefficient is appropriate. If the relationship between the two variables is monotonic, but not necessarily linear, then the Spearman's rank correlation is appropriate.\n",
        "\n",
        "If the relationship between the number of hours of exercise per week and BMI is linear, then the Pearson correlation coefficient would be appropriate to use. If the relationship is not linear, then the Spearman's rank correlation would be appropriate to use.\n",
        "\n",
        "After calculating both correlation coefficients, you can compare the results. If the Pearson correlation coefficient and the Spearman's rank correlation are similar in value and sign, then it suggests that the relationship between the number of hours of exercise per week and BMI is linear. If the Pearson correlation coefficient and the Spearman's rank correlation are similar in sign but different in value, then it suggests that the relationship between the number of hours of exercise per week and BMI is monotonic, but not necessarily linear. If the Pearson correlation coefficient and the Spearman's rank correlation are different in sign, then it suggests that the relationship between the number of hours of exercise per week and BMI is not linear or monotonic.\n",
        "\n",
        "Therefore, it is important to calculate both the Pearson correlation coefficient and the Spearman's rank correlation to better understand the relationship between the number of hours of exercise per week and BMI in a sample of adults."
      ],
      "metadata": {
        "id": "tOoPH5mFDNy1"
      }
    },
    {
      "cell_type": "code",
      "source": [],
      "metadata": {
        "id": "PgznMHA2DO3_"
      },
      "execution_count": null,
      "outputs": []
    },
    {
      "cell_type": "markdown",
      "source": [
        "ans 4:To calculate the Pearson correlation coefficient between the number of hours individuals spend watching television per day and their level of physical activity, you would need to have the data for both variables for 50 participants. Once you have the data, you can use a statistical software program or a calculator to calculate the Pearson correlation coefficient.\n",
        "\n",
        "The Pearson correlation coefficient measures the linear relationship between two variables, ranging from -1 to 1. A value of 1 indicates a perfect positive linear relationship, a value of -1 indicates a perfect negative linear relationship, and a value of 0 indicates no linear relationship.\n",
        "\n",
        "After calculating the Pearson correlation coefficient between the number of hours individuals spend watching television per day and their level of physical activity, you can interpret the result. If the Pearson correlation coefficient is positive, it suggests that there is a positive linear relationship between the number of hours individuals spend watching television per day and their level of physical activity, indicating that individuals who spend more time watching television tend to be less physically active. If the Pearson correlation coefficient is negative, it suggests that there is a negative linear relationship between the number of hours individuals spend watching television per day and their level of physical activity, indicating that individuals who spend more time watching television tend to be less physically active. If the Pearson correlation coefficient is close to 0, it suggests that there is no linear relationship between the number of hours individuals spend watching television per day and their level of physical activity.\n",
        "\n",
        "It is important to note that the Pearson correlation coefficient only measures the linear relationship between two variables and does not capture any other types of relationships, such as a curvilinear relationship or a non-linear relationship. Therefore, it is important to consider other statistical techniques or methods to fully understand the relationship between the number of hours individuals spend watching television per day and their level of physical activity."
      ],
      "metadata": {
        "id": "3WbLkigKDU69"
      }
    },
    {
      "cell_type": "code",
      "source": [
        "#ans 5:\n",
        "import pandas as pd\n",
        "\n",
        "age = [25, 42, 37, 19, 31, 28]\n",
        "soft_drink = ['coke', 'pepsi', 'Mountain dew', 'Coke', 'Pepsi', 'Coke']\n",
        "\n",
        "df = pd.DataFrame({'age': age, 'soft_drink': soft_drink})\n",
        "\n",
        "print(df.corr(method='pearson'))\n",
        "\n"
      ],
      "metadata": {
        "colab": {
          "base_uri": "https://localhost:8080/"
        },
        "id": "lArg2UmMDWd2",
        "outputId": "c4b15aa7-49e4-47b2-c620-db42aa5fc679"
      },
      "execution_count": 2,
      "outputs": [
        {
          "output_type": "stream",
          "name": "stdout",
          "text": [
            "     age\n",
            "age  1.0\n"
          ]
        }
      ]
    },
    {
      "cell_type": "markdown",
      "source": [
        "ans 6:To calculate the Pearson correlation coefficient between the number of sales calls made per day and the number of sales made per week, we need to use the formula:\n",
        "\n",
        "r = (nΣxy - ΣxΣy) / sqrt[(nΣx^2 - (Σx)^2)(nΣy^2 - (Σy)^2)]\n",
        "\n",
        "where:\n",
        "n = sample size (in this case, n = 30)\n",
        "x = number of sales calls made per day\n",
        "y = number of sales made per week\n",
        "Σxy = sum of the product of each x and y value\n",
        "Σx = sum of all x values\n",
        "Σy = sum of all y values\n",
        "Σx^2 = sum of the square of each x value\n",
        "Σy^2 = sum of the square of each y value\n",
        "\n",
        "After calculating the necessary values, we can plug them into the formula to find the Pearson correlation coefficient:\n",
        "\n",
        "r = (30Σxy - ΣxΣy) / sqrt[(30Σx^2 - (Σx)^2)(30Σy^2 - (Σy)^2)]\n",
        "\n",
        "Assuming the data is available, we can calculate the values needed for the formula and then solve for r. The resulting value of r will range from -1 to 1, with a value of 0 indicating no correlation, a value of 1 indicating a perfect positive correlation, and a value of -1 indicating a perfect negative correlation.\n",
        "\n",
        "Without the actual data, we cannot calculate the Pearson correlation coefficient."
      ],
      "metadata": {
        "id": "PzXRvl5JDcoI"
      }
    },
    {
      "cell_type": "code",
      "source": [],
      "metadata": {
        "id": "31AM3_guDe_5"
      },
      "execution_count": null,
      "outputs": []
    }
  ]
}