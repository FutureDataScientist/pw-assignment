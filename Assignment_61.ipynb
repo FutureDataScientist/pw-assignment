{
  "nbformat": 4,
  "nbformat_minor": 0,
  "metadata": {
    "colab": {
      "provenance": []
    },
    "kernelspec": {
      "name": "python3",
      "display_name": "Python 3"
    },
    "language_info": {
      "name": "python"
    }
  },
  "cells": [
    {
      "cell_type": "code",
      "execution_count": 1,
      "metadata": {
        "id": "-MGuW65_LPtb"
      },
      "outputs": [],
      "source": [
        "#assignment61"
      ]
    },
    {
      "cell_type": "markdown",
      "source": [
        "ans 1: The mathematical formula for a linear SVM (Support Vector Machine) is as follows:\n",
        "\n",
        "Given a training dataset {xi, yi}, i = 1, 2, ..., n, where xi is the ith input vector and yi is its corresponding class label, the goal of a linear SVM is to find a hyperplane in the feature space that maximally separates the two classes.\n",
        "\n",
        "The hyperplane is defined by a weight vector w and a bias term b, such that the decision function for predicting the class label of a new input vector x is:\n",
        "\n",
        "f(x) = sign(w^T x + b)\n",
        "\n",
        "where sign(x) is the sign function, which returns +1 if x is positive or zero, and -1 if x is negative.\n",
        "\n",
        "The objective of the linear SVM is to find the optimal values of w and b that minimize the following cost function:\n",
        "\n",
        "minimize 1/2 ||w||^2 subject to yi(w^T xi + b) >= 1, for i = 1, 2, ..., n\n",
        "\n",
        "where ||w|| is the Euclidean norm of the weight vector, and the inequality constraint ensures that all training examples are correctly classified with a margin of at least 1.\n",
        "\n",
        "This is a quadratic optimization problem that can be solved using techniques such as the Lagrange multiplier method or the dual form of the problem.\n",
        "\n",
        "\n",
        "\n"
      ],
      "metadata": {
        "id": "6PhgP4tnMaIL"
      }
    },
    {
      "cell_type": "code",
      "source": [],
      "metadata": {
        "id": "bHLP8jA8Mn2s"
      },
      "execution_count": null,
      "outputs": []
    },
    {
      "cell_type": "markdown",
      "source": [
        "ans 2: The objective function of a linear SVM (Support Vector Machine) is to find the optimal values of the weight vector w and bias term b that minimize the classification error and maximize the margin between the two classes.\n",
        "\n",
        "In other words, the objective of a linear SVM is to find the hyperplane that best separates the training data into two classes with the largest possible margin, while minimizing the misclassification error. The margin is defined as the distance between the hyperplane and the closest data points of each class.\n",
        "\n",
        "The objective function for a linear SVM is formulated as a constrained optimization problem, which aims to minimize the squared norm of the weight vector w subject to the constraint that all training examples are correctly classified with a margin of at least 1. This is expressed as:\n",
        "\n",
        "minimize 1/2 ||w||^2 subject to yi(w^T xi + b) >= 1, for i = 1, 2, ..., n\n",
        "\n",
        "where ||w|| is the Euclidean norm of the weight vector w, yi is the class label of the ith training example, xi is its corresponding feature vector, and b is the bias term.\n",
        "\n",
        "The optimization problem can be solved using techniques such as the Lagrange multiplier method or the dual form of the problem."
      ],
      "metadata": {
        "id": "NhXCAcugMr1t"
      }
    },
    {
      "cell_type": "code",
      "source": [],
      "metadata": {
        "id": "c1ctyvjFMtSZ"
      },
      "execution_count": null,
      "outputs": []
    },
    {
      "cell_type": "markdown",
      "source": [
        "ans 3: The kernel trick is a technique used in Support Vector Machine (SVM) algorithms to transform the input data into a higher-dimensional feature space without actually computing the coordinates of the data in that space. The kernel trick allows SVMs to handle non-linearly separable data by implicitly mapping it to a higher-dimensional space where it becomes linearly separable.\n",
        "\n",
        "In SVM, the kernel function is used to measure the similarity between two data points in the feature space. Instead of computing the inner product of the two vectors directly, the kernel function is used to calculate the inner product in a higher-dimensional space, without actually computing the coordinates of the data in that space.\n",
        "\n",
        "The most commonly used kernel functions in SVM are the linear kernel, polynomial kernel, and radial basis function (RBF) kernel. The RBF kernel is particularly useful for non-linearly separable data, as it can map the data to an infinite-dimensional space where it becomes linearly separable.\n",
        "\n",
        "The kernel trick allows SVMs to be used for a wide range of classification tasks, including text classification, image classification, and bioinformatics. It also enables the SVM to avoid the curse of dimensionality, which can occur when working with high-dimensional data."
      ],
      "metadata": {
        "id": "YXBcTdUmNCQ_"
      }
    },
    {
      "cell_type": "code",
      "source": [],
      "metadata": {
        "id": "AMOFjUcNNDjl"
      },
      "execution_count": null,
      "outputs": []
    },
    {
      "cell_type": "markdown",
      "source": [
        "ans 4: In Support Vector Machine (SVM), support vectors are the data points that lie closest to the decision boundary or hyperplane that separates the two classes. These data points are critical for defining the decision boundary and determining the optimal hyperplane in SVM.\n",
        "\n",
        "The role of support vectors in SVM can be explained with the following example:\n",
        "\n",
        "Suppose we have a dataset with two classes, represented by blue and red points in a 2D feature space, as shown below:\n",
        "\n",
        "SVM Example Image\n",
        "\n",
        "In SVM, the goal is to find a hyperplane that separates the two classes with the maximum margin. The hyperplane can be defined by a weight vector w and a bias term b, such that the decision function for predicting the class label of a new input vector x is:\n",
        "\n",
        "f(x) = sign(w^T x + b)\n",
        "\n",
        "The optimal hyperplane is the one that maximizes the margin between the two classes, which is the distance between the hyperplane and the closest data points of each class. These closest data points are the support vectors, as they define the position of the hyperplane.\n",
        "\n",
        "In the example above, the two closest data points to the hyperplane are circled in green, and are therefore the support vectors. These support vectors are used to define the position and orientation of the hyperplane, and they also help to ensure that the hyperplane has a large margin.\n",
        "\n",
        "During the training of an SVM algorithm, only the support vectors are used to define the hyperplane and make predictions, which makes the algorithm more computationally efficient and less sensitive to outliers or noisy data points."
      ],
      "metadata": {
        "id": "wZRn1C8QNIvn"
      }
    },
    {
      "cell_type": "code",
      "source": [],
      "metadata": {
        "id": "JhgZ_LGLNMAp"
      },
      "execution_count": null,
      "outputs": []
    },
    {
      "cell_type": "markdown",
      "source": [
        "ans 5: Hyperplane: In SVM, a hyperplane is a decision boundary that separates the two classes. The hyperplane can be defined by a weight vector w and a bias term b, such that the decision function for predicting the class label of a new input vector x is:\n",
        "f(x) = sign(w^T x + b)\n",
        "\n",
        "Here is an example of a hyperplane in a 2D feature space, separating blue and red data points:\n",
        "\n",
        "Hyperplane Example Image\n",
        "\n",
        "Marginal plane: The marginal plane is the plane that is equidistant to the two closest data points of different classes. It is parallel to the hyperplane and helps to define the margin between the two classes.\n",
        "Here is an example of a hyperplane and its corresponding marginal plane in a 2D feature space:\n",
        "\n",
        "Marginal Plane Example Image\n",
        "\n",
        "Hard margin: In SVM, a hard margin refers to the case when the margin between the two classes is maximized and no data points are allowed to be misclassified. This is achieved by imposing a strict constraint that all data points must be correctly classified by the hyperplane.\n",
        "Here is an example of a hard margin SVM, where the two classes are perfectly separated by a linear hyperplane with no misclassified data points:\n",
        "\n",
        "Hard Margin Example Image\n",
        "\n",
        "Soft margin: In SVM, a soft margin refers to the case when some data points are allowed to be misclassified in order to achieve a wider margin between the two classes. This is useful when the data is not perfectly separable, or when there are outliers or noisy data points.\n",
        "Here is an example of a soft margin SVM, where the two classes are separated by a non-linear hyperplane with some misclassified data points allowed:\n",
        "\n",
        "Soft Margin Example Image\n",
        "\n",
        "In this example, the SVM algorithm allows for some misclassification in order to achieve a wider margin between the two classes. The misclassified data points are shown as circles on the wrong side of the hyperplane."
      ],
      "metadata": {
        "id": "jd-HgFoFNQoZ"
      }
    },
    {
      "cell_type": "code",
      "source": [
        "#ans 6:\n",
        "from sklearn.datasets import load_iris\n",
        "from sklearn.model_selection import train_test_split\n",
        "from sklearn.svm import SVC\n",
        "from sklearn.metrics import accuracy_score\n",
        "import matplotlib.pyplot as plt\n",
        "import numpy as np\n",
        "\n",
        "# Load Iris dataset\n",
        "iris = load_iris()\n",
        "\n",
        "# Split dataset into training and testing sets\n",
        "X_train, X_test, y_train, y_test = train_test_split(iris.data, iris.target, test_size=0.3, random_state=42)\n",
        "\n",
        "# Train a linear SVM classifier on the training set\n",
        "svc = SVC(kernel='linear', C=1.0)\n",
        "svc.fit(X_train, y_train)\n",
        "\n",
        "# Predict the labels for the testing set\n",
        "y_pred = svc.predict(X_test)\n",
        "\n",
        "# Compute the accuracy of the model on the testing set\n",
        "accuracy = accuracy_score(y_test, y_pred)\n",
        "print('Accuracy:', accuracy)\n",
        "\n",
        "# Plot the decision boundaries of the trained model using two of the features\n",
        "feature_names = iris.feature_names\n",
        "feature_idx = [0, 2]  # Using sepal length and petal length as features\n",
        "\n",
        "X = iris.data[:, feature_idx]\n",
        "y = iris.target\n",
        "\n",
        "# Fit the SVM model using the two selected features\n",
        "svm = SVC(kernel='linear', C=1.0)\n",
        "svm.fit(X, y)\n",
        "\n",
        "# Create a meshgrid of points to plot the decision boundaries\n",
        "x_min, x_max = X[:, 0].min() - 1, X[:, 0].max() + 1\n",
        "y_min, y_max = X[:, 1].min() - 1, X[:, 1].max() + 1\n",
        "xx, yy = np.meshgrid(np.arange(x_min, x_max, 0.02), np.arange(y_min, y_max, 0.02))\n",
        "\n",
        "# Predict the labels for each point in the meshgrid\n",
        "Z = svm.predict(np.c_[xx.ravel(), yy.ravel()])\n",
        "Z = Z.reshape(xx.shape)\n",
        "\n",
        "# Plot the decision boundaries and the data points\n",
        "plt.contourf(xx, yy, Z, cmap=plt.cm.Spectral)\n",
        "plt.scatter(X[:, 0], X[:, 1], c=y, cmap=plt.cm.Spectral)\n",
        "plt.xlabel(feature_names[feature_idx[0]])\n",
        "plt.ylabel(feature_names[feature_idx[1]])\n",
        "plt.title('SVM Decision Boundaries')\n",
        "plt.show()\n",
        "\n",
        "# Try different values of the regularisation parameter C and see how it affects the performance of the model\n",
        "for c in [0.1, 1, 10, 100]:\n",
        "    svm = SVC(kernel='linear', C=c)\n",
        "    svm.fit(X_train, y_train)\n",
        "    y_pred = svm.predict(X_test)\n",
        "    accuracy = accuracy_score(y_test, y_pred)\n",
        "    print('C =', c, 'Accuracy:', accuracy)\n"
      ],
      "metadata": {
        "colab": {
          "base_uri": "https://localhost:8080/",
          "height": 559
        },
        "id": "mtj3NkHfNWBE",
        "outputId": "4ae68f53-79b3-46fb-aed5-078a6bb81709"
      },
      "execution_count": 5,
      "outputs": [
        {
          "output_type": "stream",
          "name": "stdout",
          "text": [
            "Accuracy: 1.0\n"
          ]
        },
        {
          "output_type": "display_data",
          "data": {
            "text/plain": [
              "<Figure size 640x480 with 1 Axes>"
            ],
            "image/png": "[encoded data removed]"
          },
          "metadata": {}
        },
        {
          "output_type": "stream",
          "name": "stdout",
          "text": [
            "C = 0.1 Accuracy: 1.0\n",
            "C = 1 Accuracy: 1.0\n",
            "C = 10 Accuracy: 0.9777777777777777\n",
            "C = 100 Accuracy: 1.0\n"
          ]
        }
      ]
    },
    {
      "cell_type": "code",
      "source": [
        "#bonus task\n",
        "import numpy as np\n",
        "\n",
        "class LinearSVM:\n",
        "    def __init__(self, learning_rate=0.1, num_epochs=1000, C=1.0):\n",
        "        self.learning_rate = learning_rate\n",
        "        self.num_epochs = num_epochs\n",
        "        self.C = C\n",
        "        \n",
        "    def fit(self, X, y):\n",
        "        n_samples, n_features = X.shape\n",
        "        y_ = np.where(y <= 0, -1, 1)\n",
        "        self.w = np.zeros(n_features)\n",
        "        self.b = 0\n",
        "        \n",
        "        for epoch in range(self.num_epochs):\n",
        "            for i, x_i in enumerate(X):\n",
        "                condition = y_[i] * (np.dot(x_i, self.w) - self.b) >= 1\n",
        "                if condition:\n",
        "                    self.w -= self.learning_rate * (2 * self.C * self.w)\n",
        "                else:\n",
        "                    self.w -= self.learning_rate * (2 * self.C * self.w - np.dot(x_i, y_[i]))\n",
        "                    self.b -= self.learning_rate * y_[i]\n",
        "        \n",
        "    def predict(self, X):\n",
        "        approx = np.dot(X, self.w) - self.b\n",
        "        return np.sign(approx)\n",
        "\n",
        "\n"
      ],
      "metadata": {
        "id": "FKphsXUnNawJ"
      },
      "execution_count": 7,
      "outputs": []
    },
    {
      "cell_type": "code",
      "source": [],
      "metadata": {
        "id": "OZw9txl9OvxH"
      },
      "execution_count": null,
      "outputs": []
    }
  ]
}