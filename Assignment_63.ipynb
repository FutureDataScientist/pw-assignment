{
  "nbformat": 4,
  "nbformat_minor": 0,
  "metadata": {
    "colab": {
      "provenance": []
    },
    "kernelspec": {
      "name": "python3",
      "display_name": "Python 3"
    },
    "language_info": {
      "name": "python"
    }
  },
  "cells": [
    {
      "cell_type": "code",
      "execution_count": 1,
      "metadata": {
        "id": "sayF8ICJT-SK"
      },
      "outputs": [],
      "source": [
        "#assignment 63"
      ]
    },
    {
      "cell_type": "markdown",
      "source": [
        "ans 2: If the goal is to predict the actual price of a house as accurately as possible, then the MSE (Mean Squared Error) metric would be more appropriate for evaluating the SVM regression model.\n",
        "\n",
        "The MSE measures the average squared difference between the predicted and actual values, which directly reflects the magnitude of the errors in the predictions. Therefore, minimizing the MSE would result in more accurate predictions.\n",
        "\n",
        "On the other hand, R-squared measures the proportion of variance in the target variable that is explained by the model. While this metric can be useful for understanding the overall goodness of fit of the model, it does not directly reflect the accuracy of the predictions.\n",
        "\n",
        "In summary, if the goal is to minimize prediction errors, MSE is a more appropriate evaluation metric than R-squared for an SVM regression model."
      ],
      "metadata": {
        "id": "RYxSNRX_WJxN"
      }
    },
    {
      "cell_type": "code",
      "source": [
        "import pandas as pd\n",
        "from sklearn.model_selection import train_test_split\n",
        "from sklearn.svm import SVR\n",
        "from sklearn.metrics import mean_squared_error, mean_absolute_error\n",
        "\n",
        "# Load the dataset\n",
        "data = pd.read_csv(\"mn.csv\")\n",
        "\n",
        "# Split the dataset into training and testing sets\n",
        "X = data.drop(\"price\", axis=1)\n",
        "y = data[\"price\"]\n",
        "X_train, X_test, y_train, y_test = train_test_split(X, y, test_size=0.2, random_state=42)\n",
        "\n",
        "# Fit the SVM regression model\n",
        "model = SVR(kernel=\"linear\")\n",
        "model.fit(X_train, y_train)\n",
        "\n",
        "# Predict the prices on the test set\n",
        "y_pred = model.predict(X_test)\n",
        "\n",
        "# Calculate the mean squared error and root mean squared error\n",
        "mse = mean_squared_error(y_test, y_pred)\n",
        "rmse = mean_squared_error(y_test, y_pred, squared=False)\n",
        "\n",
        "print(\"Mean Squared Error: \", mse)\n",
        "print(\"Root Mean Squared Error: \", rmse)\n"
      ],
      "metadata": {
        "id": "qzWbf_ShUEbf"
      },
      "execution_count": 5,
      "outputs": []
    },
    {
      "cell_type": "markdown",
      "source": [
        "ans 3:When dealing with a dataset that has a significant number of outliers, the mean squared error (MSE) metric may not be the most appropriate regression metric to use with an SVM model. This is because the squared errors in the MSE can be heavily influenced by the outliers and lead to inaccurate model evaluation.\n",
        "\n",
        "In such a scenario, a more appropriate regression metric to use with an SVM model would be the mean absolute error (MAE). The MAE measures the average absolute difference between the predicted and actual values, which is less sensitive to outliers compared to the squared differences in the MSE.\n",
        "\n",
        "Using the MAE as the evaluation metric in an SVM model can help ensure that the model is not overly influenced by the outliers and is instead focusing on minimizing the errors for the majority of the data points.\n",
        "\n",
        "\n",
        "\n",
        "\n",
        "\n",
        "\n",
        "\n"
      ],
      "metadata": {
        "id": "UBCEBxewWt0W"
      }
    },
    {
      "cell_type": "code",
      "source": [],
      "metadata": {
        "id": "d_Fuy6iSUllI"
      },
      "execution_count": null,
      "outputs": []
    },
    {
      "cell_type": "markdown",
      "source": [
        "ans 4:If the MSE and RMSE values are very close for an SVM regression model with a polynomial kernel, either metric can be used to evaluate its performance.\n",
        "\n",
        "The MSE and RMSE are very similar metrics and provide similar information about the model's performance. The only difference is that the RMSE takes the square root of the MSE, making it more interpretable as it is in the same units as the target variable.\n",
        "\n",
        "In general, the choice between MSE and RMSE as an evaluation metric for an SVM regression model with a polynomial kernel depends on the preference of the user and the context of the problem. If the target variable is in units that are easily interpretable, then RMSE may be preferred. However, if the focus is on minimizing prediction errors regardless of the units of the target variable, then MSE can be used."
      ],
      "metadata": {
        "id": "mkjUFpPYXOKC"
      }
    },
    {
      "cell_type": "code",
      "source": [],
      "metadata": {
        "id": "qb_l9tLOXSpF"
      },
      "execution_count": null,
      "outputs": []
    },
    {
      "cell_type": "markdown",
      "source": [
        "ans 5: If the goal is to measure how well the SVM regression models with different kernels explain the variance in the target variable, then the most appropriate evaluation metric to use is the coefficient of determination, also known as R-squared (R²).\n",
        "\n",
        "R-squared measures the proportion of variance in the target variable that is explained by the model. Therefore, it is a good metric to use when the goal is to assess how well the model captures the variability in the target variable. The higher the R-squared value, the better the model is at explaining the variance in the target variable.\n",
        "\n",
        "Note that R-squared is only appropriate to use when the goal is to explain the variability in the target variable. If the goal is to minimize prediction errors, then metrics such as MSE or MAE may be more appropriate to use."
      ],
      "metadata": {
        "id": "6hkrN7PHXWrb"
      }
    },
    {
      "cell_type": "code",
      "source": [],
      "metadata": {
        "id": "SHFiQFWmXXwQ"
      },
      "execution_count": null,
      "outputs": []
    }
  ]
}