{
  "nbformat": 4,
  "nbformat_minor": 0,
  "metadata": {
    "colab": {
      "provenance": []
    },
    "kernelspec": {
      "name": "python3",
      "display_name": "Python 3"
    },
    "language_info": {
      "name": "python"
    }
  },
  "cells": [
    {
      "cell_type": "code",
      "execution_count": 1,
      "metadata": {
        "id": "-YTK1p_Ddi1y"
      },
      "outputs": [],
      "source": [
        "#Assignment 69"
      ]
    },
    {
      "cell_type": "code",
      "source": [
        "#ans 1:\n",
        "# Import necessary libraries\n",
        "import pandas as pd\n",
        "from sklearn.ensemble import RandomForestClassifier\n",
        "from sklearn.compose import ColumnTransformer\n",
        "from sklearn.pipeline import Pipeline\n",
        "from sklearn.impute import SimpleImputer\n",
        "from sklearn.preprocessing import StandardScaler, OneHotEncoder\n",
        "from sklearn.feature_selection import SelectKBest, f_classif\n",
        "\n",
        "# Load the dataset\n",
        "diabetes_df = pd.read_csv('diabetes.csv')\n",
        "\n",
        "# Separate the target variable from the features\n",
        "X = diabetes_df.drop('Outcome', axis=1)\n",
        "y = diabetes_df['Outcome']\n",
        "\n",
        "# Create a feature selection pipeline using SelectKBest and f_classif\n",
        "feature_selection_pipeline = Pipeline([\n",
        "    ('select', SelectKBest(f_classif, k=5))\n",
        "])\n",
        "\n",
        "# Create a numerical pipeline using SimpleImputer and StandardScaler\n",
        "numerical_pipeline = Pipeline([\n",
        "    ('imputer', SimpleImputer(strategy='mean')),\n",
        "    ('scaler', StandardScaler())\n",
        "])\n",
        "\n",
        "# Create a categorical pipeline using SimpleImputer and OneHotEncoder\n",
        "categorical_pipeline = Pipeline([\n",
        "    ('imputer', SimpleImputer(strategy='most_frequent')),\n",
        "    ('encoder', OneHotEncoder())\n",
        "])\n",
        "\n",
        "# Combine the numerical and categorical pipelines using ColumnTransformer\n",
        "preprocessing_pipeline = ColumnTransformer([\n",
        "    ('numerical', numerical_pipeline, X.select_dtypes(include='number').columns),\n",
        "    ('categorical', categorical_pipeline, X.select_dtypes(include='object').columns)\n",
        "])\n",
        "\n",
        "# Combine the feature selection pipeline and preprocessing pipeline\n",
        "full_pipeline = Pipeline([\n",
        "    ('preprocessing', preprocessing_pipeline),\n",
        "    ('feature_selection', feature_selection_pipeline),\n",
        "    ('classifier', RandomForestClassifier())\n",
        "])\n",
        "\n",
        "# Split the dataset into training and testing sets\n",
        "from sklearn.model_selection import train_test_split\n",
        "X_train, X_test, y_train, y_test = train_test_split(X, y, test_size=0.2, random_state=42)\n",
        "\n",
        "# Fit the pipeline on the training data\n",
        "full_pipeline.fit(X_train, y_train)\n",
        "\n",
        "# Predict on the test data and evaluate the accuracy\n",
        "from sklearn.metrics import accuracy_score\n",
        "y_pred = full_pipeline.predict(X_test)\n",
        "accuracy = accuracy_score(y_test, y_pred)\n",
        "print(\"Accuracy: {:.2f}%\".format(accuracy * 100))\n"
      ],
      "metadata": {
        "colab": {
          "base_uri": "https://localhost:8080/"
        },
        "id": "fe-Po6TWdrLR",
        "outputId": "b4b13ae0-1b9f-41bf-dbe6-1263652101aa"
      },
      "execution_count": 3,
      "outputs": [
        {
          "output_type": "stream",
          "name": "stdout",
          "text": [
            "Accuracy: 76.62%\n"
          ]
        }
      ]
    },
    {
      "cell_type": "code",
      "source": [
        "#ans 2:\n",
        "from sklearn.datasets import load_iris\n",
        "from sklearn.model_selection import train_test_split\n",
        "from sklearn.pipeline import Pipeline\n",
        "from sklearn.ensemble import RandomForestClassifier\n",
        "from sklearn.linear_model import LogisticRegression\n",
        "from sklearn.ensemble import VotingClassifier\n",
        "\n",
        "# Load the iris dataset\n",
        "iris = load_iris()\n",
        "\n",
        "# Split the dataset into training and testing sets\n",
        "X_train, X_test, y_train, y_test = train_test_split(iris.data, iris.target, test_size=0.3, random_state=42)\n",
        "\n",
        "# Define the pipelines for the random forest classifier and logistic regression classifier\n",
        "rf_pipeline = Pipeline([('rf', RandomForestClassifier())])\n",
        "lr_pipeline = Pipeline([('lr', LogisticRegression())])\n",
        "\n",
        "# Combine the two pipelines into a voting classifier\n",
        "voting_clf = VotingClassifier([('rf', rf_pipeline), ('lr', lr_pipeline)])\n",
        "\n",
        "# Train the voting classifier on the training set\n",
        "voting_clf.fit(X_train, y_train)\n",
        "\n",
        "# Evaluate the accuracy of the voting classifier on the testing set\n",
        "accuracy = voting_clf.score(X_test, y_test)\n",
        "print(\"Accuracy: {:.2f}%\".format(accuracy * 100))\n"
      ],
      "metadata": {
        "colab": {
          "base_uri": "https://localhost:8080/"
        },
        "id": "DXAuR6_qdxJg",
        "outputId": "2aba26e1-6fbb-4600-e141-5918d6e3e433"
      },
      "execution_count": 4,
      "outputs": [
        {
          "output_type": "stream",
          "name": "stdout",
          "text": [
            "Accuracy: 100.00%\n"
          ]
        }
      ]
    },
    {
      "cell_type": "code",
      "source": [],
      "metadata": {
        "id": "elWgSFPXfMKx"
      },
      "execution_count": null,
      "outputs": []
    }
  ]
}