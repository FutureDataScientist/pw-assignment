{
  "nbformat": 4,
  "nbformat_minor": 0,
  "metadata": {
    "colab": {
      "provenance": []
    },
    "kernelspec": {
      "name": "python3",
      "display_name": "Python 3"
    },
    "language_info": {
      "name": "python"
    }
  },
  "cells": [
    {
      "cell_type": "code",
      "execution_count": 1,
      "metadata": {
        "id": "mcK24zvjnQ9S"
      },
      "outputs": [],
      "source": [
        "#Assignment 75"
      ]
    },
    {
      "cell_type": "code",
      "source": [
        "#ans 1:\n",
        "from sklearn.datasets import load_iris\n",
        "from sklearn.model_selection import train_test_split\n",
        "from sklearn.neighbors import KNeighborsClassifier\n",
        "from sklearn.metrics import accuracy_score\n",
        "\n",
        "# load the iris dataset\n",
        "iris = load_iris()\n",
        "\n",
        "# split the dataset into training and testing sets\n",
        "X_train, X_test, y_train, y_test = train_test_split(iris.data, iris.target, test_size=0.3, random_state=42)\n",
        "\n",
        "# create a KNN classifier with k=3\n",
        "knn = KNeighborsClassifier(n_neighbors=3)\n",
        "\n",
        "# fit the classifier to the training data\n",
        "knn.fit(X_train, y_train)\n",
        "\n",
        "# make predictions on the testing data\n",
        "y_pred = knn.predict(X_test)\n",
        "\n",
        "# calculate the accuracy score\n",
        "accuracy = accuracy_score(y_test, y_pred)\n",
        "\n",
        "# print the accuracy score\n",
        "print(\"Accuracy:\", accuracy)\n"
      ],
      "metadata": {
        "colab": {
          "base_uri": "https://localhost:8080/"
        },
        "id": "DROqcAN7nZpV",
        "outputId": "0963bb75-cba0-4332-ad2b-3d1c8dcf2168"
      },
      "execution_count": 2,
      "outputs": [
        {
          "output_type": "stream",
          "name": "stdout",
          "text": [
            "Accuracy: 1.0\n"
          ]
        }
      ]
    },
    {
      "cell_type": "code",
      "source": [
        "#ans 2:\n",
        "from sklearn.datasets import load_boston\n",
        "from sklearn.model_selection import train_test_split\n",
        "from sklearn.neighbors import KNeighborsRegressor\n",
        "from sklearn.metrics import mean_squared_error\n",
        "\n",
        "# load the boston dataset\n",
        "boston = load_boston()\n",
        "\n",
        "# split the dataset into training and testing sets\n",
        "X_train, X_test, y_train, y_test = train_test_split(boston.data, boston.target, test_size=0.3, random_state=42)\n",
        "\n",
        "# create a KNN regressor with k=3\n",
        "knn = KNeighborsRegressor(n_neighbors=3)\n",
        "\n",
        "# fit the regressor to the training data\n",
        "knn.fit(X_train, y_train)\n",
        "\n",
        "# make predictions on the testing data\n",
        "y_pred = knn.predict(X_test)\n",
        "\n",
        "# calculate the mean squared error\n",
        "mse = mean_squared_error(y_test, y_pred)\n",
        "\n",
        "# print the mean squared error\n",
        "print(\"Mean Squared Error:\", mse)\n"
      ],
      "metadata": {
        "id": "WFVznAytndVh"
      },
      "execution_count": 14,
      "outputs": []
    },
    {
      "cell_type": "code",
      "source": [
        "#ans 3:\n",
        "from sklearn.datasets import load_iris\n",
        "from sklearn.model_selection import cross_val_score\n",
        "from sklearn.neighbors import KNeighborsClassifier\n",
        "\n",
        "# load the iris dataset\n",
        "iris = load_iris()\n",
        "\n",
        "# create a range of K values to test\n",
        "k_values = range(1, 31)\n",
        "\n",
        "# list to store cross-validation scores for each K value\n",
        "cv_scores = []\n",
        "\n",
        "# perform cross-validation for each K value\n",
        "for k in k_values:\n",
        "    knn = KNeighborsClassifier(n_neighbors=k)\n",
        "    scores = cross_val_score(knn, iris.data, iris.target, cv=10, scoring='accuracy')\n",
        "    cv_scores.append(scores.mean())\n",
        "\n",
        "# find the optimal K value with the highest cross-validation score\n",
        "optimal_k = k_values[cv_scores.index(max(cv_scores))]\n",
        "print(\"Optimal K value:\", optimal_k)\n"
      ],
      "metadata": {
        "colab": {
          "base_uri": "https://localhost:8080/"
        },
        "id": "8jfqVCmWnnPH",
        "outputId": "d990eed5-714d-46b9-e245-aafb8536f493"
      },
      "execution_count": 5,
      "outputs": [
        {
          "output_type": "stream",
          "name": "stdout",
          "text": [
            "Optimal K value: 13\n"
          ]
        }
      ]
    },
    {
      "cell_type": "code",
      "source": [
        "#ans 4:\n",
        "from sklearn.datasets import load_boston\n",
        "from sklearn.preprocessing import StandardScaler\n",
        "from sklearn.neighbors import KNeighborsRegressor\n",
        "from sklearn.model_selection import train_test_split\n",
        "\n",
        "# Load the dataset\n",
        "boston = load_boston()\n",
        "\n",
        "# Split the dataset into features and target variable\n",
        "X = boston.data\n",
        "y = boston.target\n",
        "\n",
        "# Standardize the features\n",
        "scaler = StandardScaler()\n",
        "X_scaled = scaler.fit_transform(X)\n",
        "\n",
        "# Split the dataset into training and testing sets\n",
        "X_train, X_test, y_train, y_test = train_test_split(X_scaled, y, test_size=0.2, random_state=42)\n",
        "\n",
        "# Train the KNN regressor model\n",
        "k = 5\n",
        "knn_regressor = KNeighborsRegressor(n_neighbors=k)\n",
        "knn_regressor.fit(X_train, y_train)\n",
        "\n",
        "# Predict the target variable on test set\n",
        "y_pred = knn_regressor.predict(X_test)\n",
        "\n",
        "# Evaluate the model performance\n",
        "mse = mean_squared_error(y_test, y_pred)\n",
        "rmse = np.sqrt(mse)\n",
        "r2 = r2_score(y_test, y_pred)\n",
        "print(\"MSE: {:.2f}\".format(mse))\n",
        "print(\"RMSE: {:.2f}\".format(rmse))\n",
        "print(\"R2 score: {:.2f}\".format(r2))\n"
      ],
      "metadata": {
        "id": "dYpy1YCTn175"
      },
      "execution_count": 14,
      "outputs": []
    },
    {
      "cell_type": "code",
      "source": [
        "#ans 5:\n",
        "from sklearn.datasets import load_iris\n",
        "from sklearn.model_selection import train_test_split\n",
        "from sklearn.neighbors import KNeighborsClassifier\n",
        "\n",
        "# load the iris dataset\n",
        "iris = load_iris()\n",
        "\n",
        "# split the dataset into training and testing sets\n",
        "X_train, X_test, y_train, y_test = train_test_split(iris.data, iris.target, test_size=0.3, random_state=42)\n",
        "\n",
        "# create a KNN classifier with weighted voting\n",
        "knn = KNeighborsClassifier(n_neighbors=5, weights='distance')\n",
        "\n",
        "# fit the classifier to the training data\n",
        "knn.fit(X_train, y_train)\n",
        "\n",
        "# make predictions on the testing data\n",
        "y_pred = knn.predict(X_test)\n",
        "\n",
        "# print the accuracy score\n",
        "accuracy = knn.score(X_test, y_test)\n",
        "print(\"Accuracy:\", accuracy)\n"
      ],
      "metadata": {
        "colab": {
          "base_uri": "https://localhost:8080/"
        },
        "id": "XmCexchcn8CZ",
        "outputId": "e4dc91f8-eff2-4055-f24f-7935b47a9d2d"
      },
      "execution_count": 7,
      "outputs": [
        {
          "output_type": "stream",
          "name": "stdout",
          "text": [
            "Accuracy: 1.0\n"
          ]
        }
      ]
    },
    {
      "cell_type": "code",
      "source": [
        "#ans 6:\n",
        "from sklearn.preprocessing import StandardScaler\n",
        "\n",
        "def standardize_features(X):\n",
        "    \"\"\"\n",
        "    Standardizes the features of a dataset.\n",
        "    \n",
        "    Parameters:\n",
        "    X (numpy array): The dataset to be standardized\n",
        "    \n",
        "    Returns:\n",
        "    X_scaled (numpy array): The standardized dataset\n",
        "    \"\"\"\n",
        "    \n",
        "    # Initialize StandardScaler object\n",
        "    scaler = StandardScaler()\n",
        "    \n",
        "    # Standardize the dataset\n",
        "    X_scaled = scaler.fit_transform(X)\n",
        "    \n",
        "    return X_scaled\n"
      ],
      "metadata": {
        "id": "eFzz0qQ0oFJg"
      },
      "execution_count": 8,
      "outputs": []
    },
    {
      "cell_type": "code",
      "source": [
        "from sklearn.datasets import load_iris\n",
        "from sklearn.model_selection import train_test_split\n",
        "from sklearn.neighbors import KNeighborsClassifier\n",
        "\n",
        "# Load the iris dataset\n",
        "iris = load_iris()\n",
        "\n",
        "# Standardize the features of the iris dataset\n",
        "X = standardize_features(iris.data)\n",
        "\n",
        "# Split the dataset into training and testing sets\n",
        "X_train, X_test, y_train, y_test = train_test_split(X, iris.target, test_size=0.3, random_state=42)\n",
        "\n",
        "# Create a KNN classifier\n",
        "knn = KNeighborsClassifier(n_neighbors=5)\n",
        "\n",
        "# Fit the classifier to the training data\n",
        "knn.fit(X_train, y_train)\n",
        "\n",
        "# Make predictions on the testing data\n",
        "y_pred = knn.predict(X_test)\n",
        "\n",
        "# Calculate the accuracy score\n",
        "accuracy = knn.score(X_test, y_test)\n",
        "print(\"Accuracy:\", accuracy)\n"
      ],
      "metadata": {
        "colab": {
          "base_uri": "https://localhost:8080/"
        },
        "id": "7_l1gMZFoKUH",
        "outputId": "c343a3c6-90a6-48f9-e72b-f35ee299857a"
      },
      "execution_count": 9,
      "outputs": [
        {
          "output_type": "stream",
          "name": "stdout",
          "text": [
            "Accuracy: 1.0\n"
          ]
        }
      ]
    },
    {
      "cell_type": "code",
      "source": [
        "#Ans 7:\n",
        "import math\n",
        "\n",
        "def euclidean_distance(point1, point2):\n",
        "    \"\"\"\n",
        "    Calculates the Euclidean distance between two points.\n",
        "    \n",
        "    Parameters:\n",
        "    point1 (tuple or list): The first point\n",
        "    point2 (tuple or list): The second point\n",
        "    \n",
        "    Returns:\n",
        "    distance (float): The Euclidean distance between the two points\n",
        "    \"\"\"\n",
        "    \n",
        "    distance = 0.0\n",
        "    for i in range(len(point1)):\n",
        "        distance += (point1[i] - point2[i])**2\n",
        "    distance = math.sqrt(distance)\n",
        "    \n",
        "    return distance\n"
      ],
      "metadata": {
        "id": "02PqrEy8oOa4"
      },
      "execution_count": 10,
      "outputs": []
    },
    {
      "cell_type": "code",
      "source": [
        "point1 = (1, 2, 3)\n",
        "point2 = (4, 5, 6)\n",
        "\n",
        "distance = euclidean_distance(point1, point2)\n",
        "print(\"Euclidean distance:\", distance)\n"
      ],
      "metadata": {
        "colab": {
          "base_uri": "https://localhost:8080/"
        },
        "id": "1A4e9TgqoU5x",
        "outputId": "5df93ad4-0016-4d59-f949-cbd36f33fa65"
      },
      "execution_count": 11,
      "outputs": [
        {
          "output_type": "stream",
          "name": "stdout",
          "text": [
            "Euclidean distance: 5.196152422706632\n"
          ]
        }
      ]
    },
    {
      "cell_type": "code",
      "source": [
        "#ans 8:\n",
        "def manhattan_distance(point1, point2):\n",
        "    \"\"\"\n",
        "    Calculates the Manhattan distance between two points.\n",
        "    \n",
        "    Parameters:\n",
        "    point1 (tuple or list): The first point\n",
        "    point2 (tuple or list): The second point\n",
        "    \n",
        "    Returns:\n",
        "    distance (float): The Manhattan distance between the two points\n",
        "    \"\"\"\n",
        "    \n",
        "    distance = 0.0\n",
        "    for i in range(len(point1)):\n",
        "        distance += abs(point1[i] - point2[i])\n",
        "    \n",
        "    return distance\n"
      ],
      "metadata": {
        "id": "LsumYHvPoXR3"
      },
      "execution_count": 12,
      "outputs": []
    },
    {
      "cell_type": "code",
      "source": [
        "point1 = (1, 2, 3)\n",
        "point2 = (4, 5, 6)\n",
        "\n",
        "distance = manhattan_distance(point1, point2)\n",
        "print(\"Manhattan distance:\", distance)\n"
      ],
      "metadata": {
        "colab": {
          "base_uri": "https://localhost:8080/"
        },
        "id": "zpjhLu2voeec",
        "outputId": "2c1b45d0-4eac-4169-d86a-28128613c731"
      },
      "execution_count": 13,
      "outputs": [
        {
          "output_type": "stream",
          "name": "stdout",
          "text": [
            "Manhattan distance: 9.0\n"
          ]
        }
      ]
    },
    {
      "cell_type": "code",
      "source": [],
      "metadata": {
        "id": "4xhuZ810og8B"
      },
      "execution_count": null,
      "outputs": []
    }
  ]
}